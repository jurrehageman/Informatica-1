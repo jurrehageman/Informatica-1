{
 "cells": [
  {
   "cell_type": "markdown",
   "metadata": {},
   "source": [
    "# Overview"
   ]
  },
  {
   "cell_type": "markdown",
   "metadata": {},
   "source": [
    "## Script 1"
   ]
  },
  {
   "cell_type": "markdown",
   "metadata": {},
   "source": [
    "Make 100 random DNA sequences between 50 and 100 nucleotides and write to file"
   ]
  },
  {
   "cell_type": "code",
   "execution_count": 26,
   "metadata": {},
   "outputs": [
    {
     "name": "stdout",
     "output_type": "stream",
     "text": [
      "TTGGGTCGACTCTCCGGGAGTGATTTGCCCCACTTATTGTGACCACATGAAAGCCTTCGCCTGGCTAACT\n",
      "TTGGCGGGAAACCAAACCCTTCGTGACGACACCAATTGAGCGGGACTCCGCGATAGAAACGCTGTCGACAT\n",
      "ATCGTAAGGGTCCGAATCACTTTGGACGGGAAGGAATAGGAAATAGAGATGACTTTACCAGCTACCTTTCGGCGGAACAAGACATTAGACGCG\n",
      "TCCAGAATACGTATAGCGCATTATTCAACGCCAGTGGGCCGAGCGGCGGCTAAGTGGAACTCACCCCCG\n",
      "GAGTAAGAAATTTGTGGGAGCCAAATTAACATTTTAATAAATCTGTAGGGTTTCTAGAAAATAAAGAACCCAACACC\n",
      "ATTCATGGCACCGTACATTGAGTCCAAGGGCTATTCGTAGCCGCTTTCAAGGTGAATTACGAGGCTCG\n",
      "TCACTTCCCTGCCTGCATCTGTGGTTAAGTCGGGTGACATTGTCCAGCCTTCGGTGGGACATCGCTCTC\n",
      "ATTTTGTTGTGGACCTCCTGGGAACGATTCAAGTGTCAGGTGCTTACAGGTGCGTCGAGAAACCTCCACGCGATTGG\n",
      "ATAATGCAAATTGCGTACCAGTGTGGGATACTTTCCGCTGGCGGAATGAAAGAACTGGTGCAAAATACATAAAGCGACTAGGAGCGTG\n",
      "GGTAATTGGTCGTGTGAGCGGTAGCTGTCAGTAATACGATGCACGCTCAGTAGGACTCCACGGAGCTCAGGAGTACACTAGTGTT\n",
      "data written to: out.txt\n"
     ]
    }
   ],
   "source": [
    "#imports\n",
    "import random\n",
    "\n",
    "#globals\n",
    "num_of_dna = 10\n",
    "file_name = \"out.txt\"\n",
    "\n",
    "def generate_random_dna():\n",
    "    \"\"\"generates a random dna sequence\"\"\"\n",
    "    len_dna = random.randint(50, 100)\n",
    "    seq = \"\"\n",
    "    bases = \"GATC\"  \n",
    "    for base in range(len_dna):\n",
    "        nucleotide = random.choice(bases)\n",
    "        seq += nucleotide\n",
    "    return seq\n",
    "\n",
    "\n",
    "def write_to_file(seq, file_name):\n",
    "    \"\"\"writes sequences to file\"\"\"\n",
    "    file_obj = open(file_name, 'a')\n",
    "    print(seq, file = file_obj)\n",
    "    file_obj.close()\n",
    "\n",
    "\n",
    "def generate_many_dna(num_dna, file_name):\n",
    "    \"\"\"generates many dna sequences\"\"\"\n",
    "    for dna in range(num_dna):\n",
    "        ran_dna = generate_random_dna()\n",
    "        print(ran_dna)\n",
    "        write_to_file(ran_dna, file_name)\n",
    "\n",
    "        \n",
    "#functie aanroepen\n",
    "generate_many_dna(num_of_dna, file_name)\n",
    "print(\"data written to:\", file_name)\n",
    "\n",
    "\n",
    "\n"
   ]
  },
  {
   "cell_type": "markdown",
   "metadata": {},
   "source": [
    "## Script 2"
   ]
  },
  {
   "cell_type": "markdown",
   "metadata": {},
   "source": [
    "read DNA sequences from file and calculate GC percentage per sequence"
   ]
  },
  {
   "cell_type": "code",
   "execution_count": 41,
   "metadata": {},
   "outputs": [
    {
     "name": "stdout",
     "output_type": "stream",
     "text": [
      "ACATAGTCAAGGTAATTGGCTCTTAGCGCGGATTATGGATTGGTACGTCGTACTTGCTTAAGTGGTCGACTTTATGTTTAGAAGCACGGGTGCATGGCGG 47\n",
      "CCTGAGCTGGGAGCAATATGCTCCCAATAATTGACATTGTTGATTTACTGGTGCATCG 45\n",
      "ACAGCATCTCTATCCTTTTTCTAACTCGTCGGCGAAGGATAGATCGACTCAACTAGTAGATCCCTCATCGACCACACCGGCTCTCGGCATAGTTCAGAGC 50\n",
      "CTCGCGTCTTGCAGGATCGTGGTAAGACCTTAATCTCCCTCTTGATTGAAACCAGTACCGGCGGATACTTAGATCGGTAATCATATTCACATGC 47\n",
      "CCGCACTCTGGGCAGCTCAGCGAGTGATTTTTCCATCAACAGAACATTCAACGGGGCGATAAGTTGACCTGGTGTGGG 54\n",
      "CCTCTATACGCGCTATGTGCTCAAACCCGGTTTTAGGTGACCTTAGGAGGGCCTAT 52\n",
      "TCTCAACGCCAGCGGTGTGTCCGTATGTCCGACCTTGGACGCTAAGAGATGGGAAGTTTCCCCGGCGAAGATGCCATGCTAACTTTA 54\n",
      "TCTTTACTCCCTACTTCTCAAGCGGGAGTGATAACAGAGCCGGAAAGTACAGCCCCATTGCAGAATCTAATAGGGTTACACTTCG 47\n",
      "CTCCGTCGGAAGGTTGGCAACAAAAGTATGGGCGACAACACTTGCTCACGGCTATAGATTATCTACGCGACGATGGTTGCGGGTGG 53\n",
      "GGCTGAATACACGCGCTGTAAGGAGGCCAGGCACACATACGTCATGGTCGCCCTTGTAACCTTGATTGTTCTGGAGGACGTACTCTGA 53\n",
      "GGACATCGCCCTGCTGTTCCAAACGGATTGTGGCAACGGCTGGAAACTAGGGTCTGTCGAATG 56\n",
      "CACTGGCTAAGGTATTCCTGCCTCGACTGAGGTTGACGTCGTGCCACGGGCTCGCATCTCGCTCTAGAGTTTGGGAACTATCGAGCT 56\n",
      "TGCTCACTCTTGATGTAGGTCAGTCGGATTACATGGGTCCCATAAGACGATAGCTTTATTTTCTTTGAGACGAAA 41\n",
      "TATTTGAGTGAGAGAAACACACCAGCATTAAAAAGGGATTCATATATTAAAGTTACAACGACATGATTAGGGGGATGGGT 36\n",
      "GGTTCTACCGTCCACTCCAGAATGTAGACGTTGTGAACATTGGCTGTCATTAGTTGACTTCCTCCCTCTTAGATCGGTAGTGTT 46\n",
      "TCGAACTTGCGTCCGGCACGTATTGGTCCCATATAGTTGCTAAAGCAATAATTTTGCCGAATCACAATCACGCG 46\n",
      "TGAGCCCTACTTAATCTGCCTCGTGGGATATAAGGCGGCGAAAGCCGGTGTTTTCAGTCTTCCCATTGAATTAGACTACTTTAGGCCCACAGGCTGATGG 50\n",
      "TTGAGCGCGAGCGAATGATATGAATATCGATGTTACAGTGGAAATTTCCCCGCGGATGTACTCTACCCACAGCTGCCGCATGCGAGCGACGTCGACAA 52\n",
      "TAAGAGTCTGCGGGCATTAACCCGGTGGAAAGGCTCCCGTCCCGGCGTGCCACAGAAGCCTAGACTCCCAATACCCGGAAGTTCGG 60\n",
      "AGCATATTGAGAGTGTTCATGTATCGTCACAACTAACAGGTTCTTCGCTTGAATCTGAGAACGTAATAGGCGGACGGTCCCGGGGCTCGGGGTACC 51\n",
      "TTGGGTCGACTCTCCGGGAGTGATTTGCCCCACTTATTGTGACCACATGAAAGCCTTCGCCTGGCTAACT 53\n",
      "TTGGCGGGAAACCAAACCCTTCGTGACGACACCAATTGAGCGGGACTCCGCGATAGAAACGCTGTCGACAT 55\n",
      "ATCGTAAGGGTCCGAATCACTTTGGACGGGAAGGAATAGGAAATAGAGATGACTTTACCAGCTACCTTTCGGCGGAACAAGACATTAGACGCG 47\n",
      "TCCAGAATACGTATAGCGCATTATTCAACGCCAGTGGGCCGAGCGGCGGCTAAGTGGAACTCACCCCCG 58\n",
      "GAGTAAGAAATTTGTGGGAGCCAAATTAACATTTTAATAAATCTGTAGGGTTTCTAGAAAATAAAGAACCCAACACC 32\n",
      "ATTCATGGCACCGTACATTGAGTCCAAGGGCTATTCGTAGCCGCTTTCAAGGTGAATTACGAGGCTCG 50\n",
      "TCACTTCCCTGCCTGCATCTGTGGTTAAGTCGGGTGACATTGTCCAGCCTTCGGTGGGACATCGCTCTC 57\n",
      "ATTTTGTTGTGGACCTCCTGGGAACGATTCAAGTGTCAGGTGCTTACAGGTGCGTCGAGAAACCTCCACGCGATTGG 52\n",
      "ATAATGCAAATTGCGTACCAGTGTGGGATACTTTCCGCTGGCGGAATGAAAGAACTGGTGCAAAATACATAAAGCGACTAGGAGCGTG 45\n",
      "GGTAATTGGTCGTGTGAGCGGTAGCTGTCAGTAATACGATGCACGCTCAGTAGGACTCCACGGAGCTCAGGAGTACACTAGTGTT 52\n"
     ]
    }
   ],
   "source": [
    "#imports\n",
    "\n",
    "#global\n",
    "file_name = \"out.txt\"\n",
    "\n",
    "def calc_gc(dna):\n",
    "    \"\"\"calculates the GC percentage for each sequence\"\"\"\n",
    "    g = dna.count(\"G\")\n",
    "    c = dna.count(\"C\")\n",
    "    gc = (g + c) / len(dna) * 100\n",
    "    return round(gc)\n",
    "\n",
    "\n",
    "def read_file(name_of_file):\n",
    "    \"\"\"reads dna sequences from file\"\"\"\n",
    "    file_obj = open(name_of_file)\n",
    "    for dna in file_obj:\n",
    "        dna = dna.strip()\n",
    "        print(dna, calc_gc(dna))\n",
    "    \n",
    "\n",
    "read_file(file_name)"
   ]
  },
  {
   "cell_type": "code",
   "execution_count": null,
   "metadata": {},
   "outputs": [],
   "source": []
  }
 ],
 "metadata": {
  "kernelspec": {
   "display_name": "Python 3",
   "language": "python",
   "name": "python3"
  },
  "language_info": {
   "codemirror_mode": {
    "name": "ipython",
    "version": 3
   },
   "file_extension": ".py",
   "mimetype": "text/x-python",
   "name": "python",
   "nbconvert_exporter": "python",
   "pygments_lexer": "ipython3",
   "version": "3.6.4"
  }
 },
 "nbformat": 4,
 "nbformat_minor": 2
}
