{
 "cells": [
  {
   "cell_type": "markdown",
   "metadata": {},
   "source": [
    "# Functions"
   ]
  },
  {
   "cell_type": "markdown",
   "metadata": {},
   "source": [
    "## Uitleg functies"
   ]
  },
  {
   "cell_type": "markdown",
   "metadata": {},
   "source": [
    "Meest simpele functie definitie:"
   ]
  },
  {
   "cell_type": "code",
   "execution_count": 4,
   "metadata": {},
   "outputs": [],
   "source": [
    "def my_func():\n",
    "    pass"
   ]
  },
  {
   "cell_type": "markdown",
   "metadata": {},
   "source": [
    "Functies:\n",
    "\n",
    "- Voorkomen herhalen code\n",
    "- Functies zorgen voor overzicht in de code\n",
    "- Functies maken het mogelijk te focusen op een deelprobleem\n",
    "- Functies maken het makkelijk een afgebakend deel van de code te testen (en dan te vergeten – black box)\n",
    "\n",
    "Advies: \n",
    "\n",
    "- Geef je functie logische namen. Een functie doet iets dus moet de naam een werkwoord zijn\n",
    "- Moet je te vaak inspringen? Maak een nieuwe functie!\n",
    "- Schrijf hooguit 10-12 regels in 1 functie. Wordt je code langer, deel dan op in meer functies!\n"
   ]
  },
  {
   "cell_type": "code",
   "execution_count": 68,
   "metadata": {},
   "outputs": [
    {
     "name": "stdout",
     "output_type": "stream",
     "text": [
      "5\n",
      "10\n",
      "nu in een for loop:\n",
      "7\n",
      "7\n",
      "8\n",
      "4\n"
     ]
    }
   ],
   "source": [
    "import random\n",
    "\n",
    "def print_random_number():\n",
    "    #prints random number between 1 and 10\n",
    "    random_num = random.randint(1, 10)\n",
    "    print(random_num)\n",
    "    \n",
    "\n",
    "print_random_number()\n",
    "print_random_number()\n",
    "print(\"nu in een for loop:\")\n",
    "for i in range(4): #meerdere keren de functie aanroepen\n",
    "    print_random_number()\n"
   ]
  },
  {
   "cell_type": "markdown",
   "metadata": {},
   "source": [
    "Verschil tussen functie aanroepen en functie object"
   ]
  },
  {
   "cell_type": "code",
   "execution_count": 16,
   "metadata": {},
   "outputs": [
    {
     "name": "stdout",
     "output_type": "stream",
     "text": [
      "8\n"
     ]
    }
   ],
   "source": [
    "#print_random_number #functie object\n",
    "print_random_number() #voert de functie uit"
   ]
  },
  {
   "cell_type": "code",
   "execution_count": 18,
   "metadata": {},
   "outputs": [
    {
     "data": {
      "text/plain": [
       "'JURRE'"
      ]
     },
     "execution_count": 18,
     "metadata": {},
     "output_type": "execute_result"
    }
   ],
   "source": [
    "my_str = \"jurre\"\n",
    "#my_str.upper #functie object\n",
    "my_str.upper() #voert uit"
   ]
  },
  {
   "cell_type": "markdown",
   "metadata": {},
   "source": [
    "## Scoping"
   ]
  },
  {
   "cell_type": "markdown",
   "metadata": {},
   "source": [
    "Variabelen in een functie hebben een functie scope. Dat wil zeggen, ze leven alleen binnen de functie. Zie functies als een afgesloten kamer met twee deuren. Een deur waar iets in kan gaan en een deur waar iets uit gaat."
   ]
  },
  {
   "cell_type": "code",
   "execution_count": 21,
   "metadata": {},
   "outputs": [
    {
     "name": "stdout",
     "output_type": "stream",
     "text": [
      "Jurre\n",
      "Bert\n",
      "Bert\n"
     ]
    }
   ],
   "source": [
    "my_name = \"Jurre\" #global scope\n",
    "\n",
    "def print_my_name():\n",
    "    my_name = \"Bert\" #function scope\n",
    "    print(my_name)\n",
    "\n",
    "print(my_name)\n",
    "print_my_name()\n",
    "my_name = \"Jurre\"\n",
    "print_my_name()"
   ]
  },
  {
   "cell_type": "code",
   "execution_count": 24,
   "metadata": {},
   "outputs": [
    {
     "name": "stdout",
     "output_type": "stream",
     "text": [
      "10\n"
     ]
    }
   ],
   "source": [
    "def create_number():\n",
    "    random_num = random.randint(1, 10) #leeft alleen binnen functie\n",
    "    print(random_num)\n",
    "\n",
    "create_number()\n",
    "#print(random_num) #geeft NameError"
   ]
  },
  {
   "cell_type": "code",
   "execution_count": 31,
   "metadata": {},
   "outputs": [
    {
     "name": "stdout",
     "output_type": "stream",
     "text": [
      "blada\n"
     ]
    }
   ],
   "source": [
    "my_text = \"bla\" #global scope\n",
    "my_text += \"da\"\n",
    "\n",
    "def manipulate_text():\n",
    "    print(my_text) #ik kan er bij\n",
    "    #my_text += \"ha\" #geeft een UnboundLocalError. Ik mag de variabele niet overschrijven\n",
    "\n",
    "manipulate_text()\n",
    "\n"
   ]
  },
  {
   "cell_type": "markdown",
   "metadata": {},
   "source": [
    "Bovenstaande geldt alleen voor immutables"
   ]
  },
  {
   "cell_type": "code",
   "execution_count": 44,
   "metadata": {},
   "outputs": [
    {
     "name": "stdout",
     "output_type": "stream",
     "text": [
      "1 ['kwik', 'kwek']\n",
      "2 ['kwik', 'kwek']\n",
      "3 ['kwik', 'kwek', 'kwak']\n"
     ]
    }
   ],
   "source": [
    "my_list = [\"kwik\"] #global variable, let op: mutable data type\n",
    "my_list.append(\"kwek\") #item toegevoegd\n",
    "print(1, my_list)\n",
    "\n",
    "def manipulate_list():\n",
    "    print(2, my_list)\n",
    "    my_list.append(\"kwak\") #item toegevoegd aan global mutable\n",
    "\n",
    "\n",
    "    \n",
    "manipulate_list()\n",
    "print(3, my_list)"
   ]
  },
  {
   "cell_type": "markdown",
   "metadata": {},
   "source": [
    "## Deur naar buiten: return"
   ]
  },
  {
   "cell_type": "markdown",
   "metadata": {},
   "source": [
    "De return statement werkt als een deurtje naar buiten. Er kan iets uit de functie:"
   ]
  },
  {
   "cell_type": "code",
   "execution_count": 45,
   "metadata": {},
   "outputs": [
    {
     "name": "stdout",
     "output_type": "stream",
     "text": [
      "40\n"
     ]
    }
   ],
   "source": [
    "def return_my_age():\n",
    "    my_age = 40\n",
    "    return my_age #als ik niets return dan zal Python None teruggeven\n",
    "    #return #\"lege\" return is default by Python, hoef je niet te doen\n",
    "\n",
    "age = return_my_age() #vang op in een variabele\n",
    "print(age) #print variabele"
   ]
  },
  {
   "cell_type": "markdown",
   "metadata": {},
   "source": [
    "Python geeft altijd maar 1 object terug:"
   ]
  },
  {
   "cell_type": "code",
   "execution_count": 52,
   "metadata": {},
   "outputs": [
    {
     "name": "stdout",
     "output_type": "stream",
     "text": [
      "('bla', 80)\n",
      "<class 'tuple'>\n"
     ]
    }
   ],
   "source": [
    "def return_stuff():\n",
    "    my_str = \"bla\"\n",
    "    my_int = 80\n",
    "    #return my_str #er kan maar 1 return statement zijn\n",
    "    #return my_int # uit de functie, deze wordt niet uitgevoerd\n",
    "    #return my_str, my_int #wordt verpakt in een tuple\n",
    "    return (my_str, my_int) #duidelijk dat het een tuple is\n",
    "\n",
    "my_obj = return_stuff()\n",
    "print(my_obj)\n",
    "print(type(my_obj))"
   ]
  },
  {
   "cell_type": "markdown",
   "metadata": {},
   "source": [
    "## Deur naar binnen: argumenten en parameters"
   ]
  },
  {
   "cell_type": "markdown",
   "metadata": {},
   "source": [
    "Argumenten en parameters functioneren als een deur naar binnen. Op deze manier kan iets in de functie komen:"
   ]
  },
  {
   "cell_type": "code",
   "execution_count": 56,
   "metadata": {},
   "outputs": [
    {
     "name": "stdout",
     "output_type": "stream",
     "text": [
      "Jurre Hageman\n",
      "Hageman Jurre\n"
     ]
    }
   ],
   "source": [
    "voornaam = \"Jurre\"\n",
    "achternaam = \"Hageman\"\n",
    "\n",
    "def return_voornaam_achternaam(voor, achter): #voor en achter zijn parameters\n",
    "    hele_naam = voor + \" \" + achter\n",
    "    return hele_naam\n",
    "\n",
    "voor_achter = return_voornaam_achternaam(voornaam, achternaam) #voornaam en achternaam zijn positionele argumenten\n",
    "print(voor_achter)\n",
    "voor_achter = return_voornaam_achternaam(achternaam, voornaam) #voornaam en achternaam zijn positionele argumenten\n",
    "print(voor_achter)\n",
    "\n"
   ]
  },
  {
   "cell_type": "markdown",
   "metadata": {},
   "source": [
    "Wat gebeurt er als ik geen argumenten geef maar Python ze wel verwacht?"
   ]
  },
  {
   "cell_type": "code",
   "execution_count": 58,
   "metadata": {},
   "outputs": [
    {
     "name": "stdout",
     "output_type": "stream",
     "text": [
      "5\n"
     ]
    }
   ],
   "source": [
    "def sum_x_y(x, y): #Python verwacht 2 argumenten want er zijn 2 parameters\n",
    "    return x + y\n",
    "\n",
    "x = 2\n",
    "y = 3\n",
    "#answer = sum_x_y() #argumenten vergeten -> geeft TypeError\n",
    "answer = sum_x_y(x, y)\n",
    "print(answer)"
   ]
  },
  {
   "cell_type": "markdown",
   "metadata": {},
   "source": [
    "### Default parameters (soms ook default argument genoemd maar feitelijk parameter)"
   ]
  },
  {
   "cell_type": "code",
   "execution_count": 61,
   "metadata": {},
   "outputs": [
    {
     "name": "stdout",
     "output_type": "stream",
     "text": [
      "103\n",
      "8\n"
     ]
    }
   ],
   "source": [
    "def sum_x_y(x, y=100): #Python verwacht nu 1 of 2 argumenten. Er is een default parameter\n",
    "    return x + y\n",
    "\n",
    "x = 3\n",
    "y = 5\n",
    "answer = sum_x_y(x) #geen y opgegeven, y=100\n",
    "print(answer)\n",
    "answer = sum_x_y(x, y) #default parameter wordt overschreven\n",
    "print(answer)\n"
   ]
  },
  {
   "cell_type": "markdown",
   "metadata": {},
   "source": [
    "Maar let op: default parameters moeten als laatste parameter gedefinieerd staan:"
   ]
  },
  {
   "cell_type": "code",
   "execution_count": 71,
   "metadata": {},
   "outputs": [
    {
     "ename": "SyntaxError",
     "evalue": "non-default argument follows default argument (<ipython-input-71-f7f80789c148>, line 1)",
     "output_type": "error",
     "traceback": [
      "\u001b[0;36m  File \u001b[0;32m\"<ipython-input-71-f7f80789c148>\"\u001b[0;36m, line \u001b[0;32m1\u001b[0m\n\u001b[0;31m    def sum_x_y(x=20, y):\u001b[0m\n\u001b[0m               ^\u001b[0m\n\u001b[0;31mSyntaxError\u001b[0m\u001b[0;31m:\u001b[0m non-default argument follows default argument\n"
     ]
    }
   ],
   "source": [
    "def sum_x_y(x=20, y):\n",
    "    return x + y\n",
    "\n",
    "x = 5\n",
    "y = 3\n",
    "\n",
    "answer = sum_x_y(y) #SyntaxError: non-default argument follows default argument\n",
    "print(answer)"
   ]
  },
  {
   "cell_type": "code",
   "execution_count": 72,
   "metadata": {},
   "outputs": [
    {
     "name": "stdout",
     "output_type": "stream",
     "text": [
      "23\n",
      "8\n"
     ]
    }
   ],
   "source": [
    "def sum_x_y(y, x=20): #default parameter altijd laatst\n",
    "    return x + y\n",
    "\n",
    "x = 5\n",
    "y = 3\n",
    "answer = sum_x_y(y)\n",
    "print(answer)\n",
    "answer = sum_x_y(y, x)\n",
    "print(answer)"
   ]
  },
  {
   "cell_type": "markdown",
   "metadata": {},
   "source": [
    "## Conclusie:"
   ]
  },
  {
   "cell_type": "markdown",
   "metadata": {},
   "source": [
    "Functies:\n",
    "\n",
    "- Voorkomen herhalen code\n",
    "- Functies zorgen voor overzicht in de code\n",
    "- Functies maken het mogelijk te focusen op een deelprobleem\n",
    "- Functies maken het makkelijk een afgebakend deel van de code te testen (en dan te vergeten – black box)\n",
    "\n",
    "Advies: \n",
    "\n",
    "- Geef je functie logische namen. Een functie doet iets dus moet de naam een werkwoord zijn\n",
    "- Moet je te vaak inspringen? Maak een nieuwe functie!\n",
    "- Schrijf hooguit 10-12 regels in 1 functie. Wordt je code langer, deel dan op in meer functies!\n"
   ]
  },
  {
   "cell_type": "code",
   "execution_count": null,
   "metadata": {},
   "outputs": [],
   "source": []
  }
 ],
 "metadata": {
  "kernelspec": {
   "display_name": "Python 3",
   "language": "python",
   "name": "python3"
  },
  "language_info": {
   "codemirror_mode": {
    "name": "ipython",
    "version": 3
   },
   "file_extension": ".py",
   "mimetype": "text/x-python",
   "name": "python",
   "nbconvert_exporter": "python",
   "pygments_lexer": "ipython3",
   "version": "3.6.4"
  }
 },
 "nbformat": 4,
 "nbformat_minor": 2
}
