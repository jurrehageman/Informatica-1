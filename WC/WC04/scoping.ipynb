{
 "cells": [
  {
   "cell_type": "markdown",
   "metadata": {},
   "source": [
    "# Scoping"
   ]
  },
  {
   "cell_type": "markdown",
   "metadata": {},
   "source": [
    "Ha Tsjerk,\n",
    "\n",
    "Dit is wat ik bedoelde (maar even niet helemaal volledig paraat had).\n",
    "Het was toch Python en niet Javascript ;-)"
   ]
  },
  {
   "cell_type": "markdown",
   "metadata": {},
   "source": [
    "Uiteraard hebben variabelen in een functie een scope:"
   ]
  },
  {
   "cell_type": "code",
   "execution_count": 1,
   "metadata": {},
   "outputs": [
    {
     "name": "stdout",
     "output_type": "stream",
     "text": [
      "text 1\n"
     ]
    },
    {
     "ename": "NameError",
     "evalue": "name 'a' is not defined",
     "output_type": "error",
     "traceback": [
      "\u001b[0;31m---------------------------------------------------------------------------\u001b[0m",
      "\u001b[0;31mNameError\u001b[0m                                 Traceback (most recent call last)",
      "\u001b[0;32m<ipython-input-1-2629a10d599d>\u001b[0m in \u001b[0;36m<module>\u001b[0;34m()\u001b[0m\n\u001b[1;32m      4\u001b[0m \u001b[0;34m\u001b[0m\u001b[0m\n\u001b[1;32m      5\u001b[0m \u001b[0mf1\u001b[0m\u001b[0;34m(\u001b[0m\u001b[0;34m)\u001b[0m\u001b[0;34m\u001b[0m\u001b[0m\n\u001b[0;32m----> 6\u001b[0;31m \u001b[0mprint\u001b[0m\u001b[0;34m(\u001b[0m\u001b[0ma\u001b[0m\u001b[0;34m)\u001b[0m \u001b[0;31m#NameError, buiten functie scope\u001b[0m\u001b[0;34m\u001b[0m\u001b[0m\n\u001b[0m",
      "\u001b[0;31mNameError\u001b[0m: name 'a' is not defined"
     ]
    }
   ],
   "source": [
    "def f1():\n",
    "    a = 'text 1'\n",
    "    print(a) #in zelfde scope\n",
    "\n",
    "f1()\n",
    "print(a) #NameError, buiten functie scope"
   ]
  },
  {
   "cell_type": "markdown",
   "metadata": {},
   "source": [
    "Maar Python gaat voor de scoping met mutable en immutable datatypen verschillend om:"
   ]
  },
  {
   "cell_type": "code",
   "execution_count": 2,
   "metadata": {},
   "outputs": [
    {
     "name": "stdout",
     "output_type": "stream",
     "text": [
      "text 2 text 3\n",
      "text 2 text 3\n"
     ]
    }
   ],
   "source": [
    "b = \"text 2\"\n",
    "b += \" text 3\"\n",
    "print(b) #text 2 text 3\n",
    "def f2():\n",
    "    print(b) #print a wel uit, in global scope\n",
    "\n",
    "\n",
    "f2() #text 2 text 3"
   ]
  },
  {
   "cell_type": "markdown",
   "metadata": {},
   "source": [
    "In de global scope mag ik b dus overschrijven met een nieuwe string. Concatenatie van text2 en text 3. Maar nu vanuit de functie bij de global variable:"
   ]
  },
  {
   "cell_type": "code",
   "execution_count": 3,
   "metadata": {},
   "outputs": [
    {
     "ename": "UnboundLocalError",
     "evalue": "local variable 'b' referenced before assignment",
     "output_type": "error",
     "traceback": [
      "\u001b[0;31m---------------------------------------------------------------------------\u001b[0m",
      "\u001b[0;31mUnboundLocalError\u001b[0m                         Traceback (most recent call last)",
      "\u001b[0;32m<ipython-input-3-954df03c7c14>\u001b[0m in \u001b[0;36m<module>\u001b[0;34m()\u001b[0m\n\u001b[1;32m      4\u001b[0m     \u001b[0mb\u001b[0m \u001b[0;34m+=\u001b[0m \u001b[0;34m\" text 3\"\u001b[0m \u001b[0;31m#maar ik mag nu b niet veranderen, geeft UnboundLocalError\u001b[0m\u001b[0;34m\u001b[0m\u001b[0m\n\u001b[1;32m      5\u001b[0m \u001b[0;34m\u001b[0m\u001b[0m\n\u001b[0;32m----> 6\u001b[0;31m \u001b[0mf2\u001b[0m\u001b[0;34m(\u001b[0m\u001b[0;34m)\u001b[0m\u001b[0;34m\u001b[0m\u001b[0m\n\u001b[0m",
      "\u001b[0;32m<ipython-input-3-954df03c7c14>\u001b[0m in \u001b[0;36mf2\u001b[0;34m()\u001b[0m\n\u001b[1;32m      1\u001b[0m \u001b[0mb\u001b[0m \u001b[0;34m=\u001b[0m \u001b[0;34m\"text 2\"\u001b[0m\u001b[0;34m\u001b[0m\u001b[0m\n\u001b[1;32m      2\u001b[0m \u001b[0;32mdef\u001b[0m \u001b[0mf2\u001b[0m\u001b[0;34m(\u001b[0m\u001b[0;34m)\u001b[0m\u001b[0;34m:\u001b[0m\u001b[0;34m\u001b[0m\u001b[0m\n\u001b[0;32m----> 3\u001b[0;31m     \u001b[0mprint\u001b[0m\u001b[0;34m(\u001b[0m\u001b[0mb\u001b[0m\u001b[0;34m)\u001b[0m \u001b[0;31m#print b wel uit, in global scope\u001b[0m\u001b[0;34m\u001b[0m\u001b[0m\n\u001b[0m\u001b[1;32m      4\u001b[0m     \u001b[0mb\u001b[0m \u001b[0;34m+=\u001b[0m \u001b[0;34m\" text 3\"\u001b[0m \u001b[0;31m#maar ik mag nu b niet veranderen, geeft UnboundLocalError\u001b[0m\u001b[0;34m\u001b[0m\u001b[0m\n\u001b[1;32m      5\u001b[0m \u001b[0;34m\u001b[0m\u001b[0m\n",
      "\u001b[0;31mUnboundLocalError\u001b[0m: local variable 'b' referenced before assignment"
     ]
    }
   ],
   "source": [
    "b = \"text 2\"\n",
    "def f2():\n",
    "    print(b) #print b wel uit, in global scope\n",
    "    b += \" text 3\" #maar ik mag nu b niet veranderen, geeft UnboundLocalError\n",
    "\n",
    "f2()\n"
   ]
  },
  {
   "cell_type": "markdown",
   "metadata": {},
   "source": [
    "Nu hetzelfde met een lijst (mutable datatype)"
   ]
  },
  {
   "cell_type": "code",
   "execution_count": 7,
   "metadata": {},
   "outputs": [
    {
     "name": "stdout",
     "output_type": "stream",
     "text": [
      "[1, 2]\n",
      "[1, 2]\n",
      "[1, 2, 3]\n"
     ]
    }
   ],
   "source": [
    "c = [1]\n",
    "c.append(2)\n",
    "print(c) # 2 toegevoegd\n",
    "def f3():\n",
    "    print(c) #print c wel uit, in global scope\n",
    "    c.append(3) #Ik mag c wel veranderen. \n",
    "f3()\n",
    "print(c) #nu is 3 toegevoegd want f3 uitgevoerd"
   ]
  },
  {
   "cell_type": "markdown",
   "metadata": {},
   "source": [
    "Dus Python gaat voor mutable en immutable datatypes verschillend om als ze in de global scope staan en vanuit een functie benaderd worden. Zowel een mutable en immutable datatype zijn benaderbaar vanuit een functie in de global scope. Je kan ze printen. Immutable datatypen in de global scope mag je niet veranderen vanuit een functie. NU snap ik wel dat een immutable datatype in werkelijkheid NOOIT veranderd wordt en er in werkelijkheid een nieuw object aan de variabele gehangen wordt maar ook dat mag niet vanuit een functie. Je moet ze dan echt als argument meegeven."
   ]
  },
  {
   "cell_type": "markdown",
   "metadata": {},
   "source": [
    "Dan komen we op mijn volgende punt:"
   ]
  },
  {
   "cell_type": "markdown",
   "metadata": {},
   "source": [
    "## Pass by reference en pass by value:"
   ]
  },
  {
   "cell_type": "markdown",
   "metadata": {},
   "source": [
    "Python gebruikt zowel \"pass by value\" als ook \"pass by reference\".\n",
    "Pass by value wordt gerbuikt voor immutable datatypes als deze als argument een functie ingaan:"
   ]
  },
  {
   "cell_type": "code",
   "execution_count": 5,
   "metadata": {},
   "outputs": [
    {
     "name": "stdout",
     "output_type": "stream",
     "text": [
      "this is \n",
      "this is by value\n",
      "this is \n"
     ]
    }
   ],
   "source": [
    "d = \"this is \"\n",
    "def f4(d):\n",
    "    d += \"by value\"\n",
    "    print(d)\n",
    "\n",
    "print(d) #this is \n",
    "f4(d) #this is by value\n",
    "print(d) #this is "
   ]
  },
  {
   "cell_type": "markdown",
   "metadata": {},
   "source": [
    "Maar pass by reference wordt gebruikt voor mutable datatypes als deze als argument een functie in gaan:"
   ]
  },
  {
   "cell_type": "code",
   "execution_count": 6,
   "metadata": {},
   "outputs": [
    {
     "name": "stdout",
     "output_type": "stream",
     "text": [
      "['this is ']\n",
      "['this is ', 'by reference']\n",
      "['this is ', 'by reference']\n"
     ]
    }
   ],
   "source": [
    "e = [\"this is \"]\n",
    "def f5(e):\n",
    "    e.append(\"by reference\")\n",
    "    print(e)\n",
    "\n",
    "print(e) #['this is ']\n",
    "f5(e) #['this is ', 'by reference']\n",
    "print(e) #['this is ', 'by reference']"
   ]
  },
  {
   "cell_type": "markdown",
   "metadata": {},
   "source": [
    "Met andere woorden: voor een string (immutable) wordt het string object de functie in geslingerd (by value).\n",
    "Voor een lijst (mutable) wordt alleen de pointer naar het object de functie in geslingerd (by reference)."
   ]
  },
  {
   "cell_type": "markdown",
   "metadata": {},
   "source": [
    "Hoop dat wat ik bedoelde nu een beetje duidelijk is ;-)"
   ]
  },
  {
   "cell_type": "code",
   "execution_count": null,
   "metadata": {},
   "outputs": [],
   "source": []
  }
 ],
 "metadata": {
  "kernelspec": {
   "display_name": "Python 3",
   "language": "python",
   "name": "python3"
  },
  "language_info": {
   "codemirror_mode": {
    "name": "ipython",
    "version": 3
   },
   "file_extension": ".py",
   "mimetype": "text/x-python",
   "name": "python",
   "nbconvert_exporter": "python",
   "pygments_lexer": "ipython3",
   "version": "3.6.4"
  }
 },
 "nbformat": 4,
 "nbformat_minor": 2
}
