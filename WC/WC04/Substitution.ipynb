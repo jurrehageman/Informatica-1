{
 "cells": [
  {
   "cell_type": "markdown",
   "metadata": {},
   "source": [
    "# Substitution"
   ]
  },
  {
   "cell_type": "code",
   "execution_count": 3,
   "metadata": {},
   "outputs": [
    {
     "name": "stdout",
     "output_type": "stream",
     "text": [
      "henkie: 1 + 2 = 3\n",
      "3\n",
      "cindy: 4 * 5 = 20\n",
      "20\n",
      "cindy: 4 * 5 = 20\n",
      "henkie: 4 + 20 = 24\n",
      "24\n",
      "\n",
      "\n",
      "\n",
      "\n",
      "henkie: 1 + 1 = 2\n",
      "henkie: 2 + 0 = 2\n",
      "cindy: 1 * 2 = 2\n",
      "henkie: 3 + 4 = 7\n",
      "bartje: 1 ** 3 = 1\n",
      "cindy: 7 * 1 = 7\n",
      "bartje: 8 ** 7 = 2097152\n",
      "2097152\n"
     ]
    }
   ],
   "source": [
    "def henkie(a, b):\n",
    "    resultaat = a + b\n",
    "    print(\"henkie:\", a, \"+\", b, \"=\", resultaat)\n",
    "    return resultaat\n",
    "\n",
    "\n",
    "def cindy(a, b):\n",
    "    resultaat = a * b\n",
    "    print(\"cindy:\", a, \"*\", b, \"=\", resultaat)\n",
    "    return resultaat\n",
    "\n",
    "\n",
    "def bartje(a, b):\n",
    "    resultaat = a ** b\n",
    "    print(\"bartje:\", a, \"**\", b, \"=\", resultaat)\n",
    "    return resultaat\n",
    "\n",
    "\n",
    "print(henkie(1, 2))\n",
    "print(cindy(4, 5))\n",
    "print(henkie(4, cindy(4, 5)))\n",
    "print(\"\\n\\n\\n\")\n",
    "print(bartje(henkie(1, 1) * (henkie(2, 0) + cindy(1, 2)), cindy(henkie(3, 4), bartje(1, 3)))) # tel de haakjes open en sluiten voor controle\n"
   ]
  },
  {
   "cell_type": "code",
   "execution_count": null,
   "metadata": {},
   "outputs": [],
   "source": []
  }
 ],
 "metadata": {
  "kernelspec": {
   "display_name": "Python 3",
   "language": "python",
   "name": "python3"
  },
  "language_info": {
   "codemirror_mode": {
    "name": "ipython",
    "version": 3
   },
   "file_extension": ".py",
   "mimetype": "text/x-python",
   "name": "python",
   "nbconvert_exporter": "python",
   "pygments_lexer": "ipython3",
   "version": "3.6.4"
  }
 },
 "nbformat": 4,
 "nbformat_minor": 2
}
