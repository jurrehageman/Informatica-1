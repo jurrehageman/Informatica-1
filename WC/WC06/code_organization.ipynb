{
 "cells": [
  {
   "cell_type": "markdown",
   "metadata": {},
   "source": [
    "# Code organization"
   ]
  },
  {
   "cell_type": "code",
   "execution_count": 96,
   "metadata": {},
   "outputs": [
    {
     "name": "stdout",
     "output_type": "stream",
     "text": [
      "this runs as step: 1\n",
      "this runs as step: 2\n",
      "this runs as step: 3\n",
      "this runs as step: 4\n",
      "this runs as step: 6\n",
      "all dna sequences written to: data.txt\n"
     ]
    }
   ],
   "source": [
    "#module import\n",
    "#never put import in a function as it may run many times\n",
    "print(\"this runs as step:\", 1)\n",
    "import random \n",
    "\n",
    "\n",
    "def write_file(seq, gc, file_name='out.txt'):\n",
    "    \"\"\"write each sequence to file\"\"\"\n",
    "    #this function runs many times\n",
    "    #first generate a file object\n",
    "    file_object = open(file_name, 'a')\n",
    "    #print(seq, gc)\n",
    "    print(seq, gc, file=file_object)\n",
    "    #do not forget to close the file\n",
    "    file_object.close()\n",
    "    \n",
    "\n",
    "def calc_gc(seq=\"GATC\"):\n",
    "    \"\"\"calculates each GC sequence\"\"\"\n",
    "    #this function runs many times\n",
    "    gc = (seq.count('G') + seq.count('C'))/len(seq) * 100\n",
    "    gc = round(gc)\n",
    "    return gc\n",
    "\n",
    "\n",
    "def gen_random_dna(length=20):\n",
    "    \"\"\"generates random dna sequence\"\"\"\n",
    "    #this function runs many times\n",
    "    bases = \"GATC\"\n",
    "    dna = \"\"\n",
    "    for nucleotide in range(length):\n",
    "        random_base = random.choice(bases)\n",
    "        dna += random_base\n",
    "    return dna\n",
    "\n",
    "\n",
    "def gen_many_dna(file_name, len_dna, number=10):\n",
    "    \"\"\"generates many dna\"\"\"\n",
    "    #roep gen_random_dna aan\n",
    "    #roep calc_gc\n",
    "    #roep write_file aan\n",
    "    print(\"this runs as step:\", 4)\n",
    "    for num in range(number):\n",
    "        dna = gen_random_dna(len_dna)\n",
    "        gc = calc_gc(dna)\n",
    "        write_file(dna, gc, file_name)\n",
    "\n",
    "        \n",
    "def main():\n",
    "    #opstart\n",
    "    num_dna = 20\n",
    "    len_dna = 15\n",
    "    file_name = \"data.txt\"\n",
    "    \n",
    "    #doe dingen\n",
    "    print(\"this runs as step:\", 3)\n",
    "    gen_many_dna(file_name, len_dna, num_dna)\n",
    "    \n",
    "    #afronden\n",
    "    print(\"this runs as step:\", 6)\n",
    "    print(\"all dna sequences written to:\", file_name)\n",
    "\n",
    "\n",
    "print(\"this runs as step:\", 2)\n",
    "main()"
   ]
  },
  {
   "cell_type": "code",
   "execution_count": null,
   "metadata": {},
   "outputs": [],
   "source": []
  }
 ],
 "metadata": {
  "kernelspec": {
   "display_name": "Python 3",
   "language": "python",
   "name": "python3"
  },
  "language_info": {
   "codemirror_mode": {
    "name": "ipython",
    "version": 3
   },
   "file_extension": ".py",
   "mimetype": "text/x-python",
   "name": "python",
   "nbconvert_exporter": "python",
   "pygments_lexer": "ipython3",
   "version": "3.6.4"
  }
 },
 "nbformat": 4,
 "nbformat_minor": 2
}
