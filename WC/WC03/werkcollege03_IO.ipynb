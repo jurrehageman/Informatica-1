{
 "cells": [
  {
   "cell_type": "markdown",
   "metadata": {},
   "source": [
    "### Seminar 03: Reading and writing files\n",
    "\n",
    "\n"
   ]
  },
  {
   "cell_type": "markdown",
   "metadata": {},
   "source": [
    "## Introduction"
   ]
  },
  {
   "cell_type": "markdown",
   "metadata": {},
   "source": [
    "Author: Jurre Hageman"
   ]
  },
  {
   "cell_type": "markdown",
   "metadata": {},
   "source": [
    "For this lesson, you will learn to read and write files with Python.\n",
    "We will end the lesson with a program that will read a file with DNA sequences, calculates the GC percentage and store the highest GC percentage to a file."
   ]
  },
  {
   "cell_type": "markdown",
   "metadata": {},
   "source": [
    "## Print message to the screen"
   ]
  },
  {
   "cell_type": "markdown",
   "metadata": {},
   "source": [
    "Create two variables that store your first name and last name. Print them using the print function after the message \"Hello\". The output should be like: Hello Jan Janssen.\n",
    "Use IDLE3 to write this script."
   ]
  },
  {
   "cell_type": "code",
   "execution_count": 1,
   "metadata": {},
   "outputs": [],
   "source": [
    "# generate two variables below: firstname and lastname. Print your name.\n",
    "\n",
    "# firstname =\n",
    "\n",
    "# lastname =\n",
    "\n",
    "# print to screen\n"
   ]
  },
  {
   "cell_type": "markdown",
   "metadata": {},
   "source": [
    "Nice work! Next we will write some code to print multiple items using a loop.\n",
    "There are different types of loops. We will explore a for loop in the next section.\n",
    "The for loop in Python is used to avoid repetition of code.\n",
    "Suppose we have a collection of different items stored. We can store them in a list:"
   ]
  },
  {
   "cell_type": "code",
   "execution_count": 2,
   "metadata": {},
   "outputs": [],
   "source": [
    "items = [\"This\", \"is\", \"a\", \"list\", \"with\", \"each\", \"item\", \"being\", \"a\", \"string\"]\n",
    "#now print the list to the screen:\n"
   ]
  },
  {
   "cell_type": "markdown",
   "metadata": {},
   "source": [
    "A text file is also a collection of items. It is a collection of lines containing characters.\n",
    "To loop through the collection we can use a for loop. Each item will be printed:"
   ]
  },
  {
   "cell_type": "code",
   "execution_count": 4,
   "metadata": {},
   "outputs": [],
   "source": [
    "items = [\"This\", \"is\", \"a\", \"list\", \"with\", \"each\", \"item\", \"being\", \"a\", \"string\"]\n",
    "#use a for loop to print each item to the screen\n"
   ]
  },
  {
   "cell_type": "markdown",
   "metadata": {},
   "source": [
    "Item is now a placeholder that is overwritten for each consecutive loop. The first loop item refers to \"This\", the second loop to \"is\" etc.\n",
    "Note that item (singular) differs from items (plural). Items refers to the complete list while item is the placeholder in the for loop refering to each item of the list."
   ]
  },
  {
   "cell_type": "markdown",
   "metadata": {},
   "source": [
    "## Read a file"
   ]
  },
  {
   "cell_type": "markdown",
   "metadata": {},
   "source": [
    "The next thing we would like to do is to open a file.\n",
    "We have a text file in the directory that is named \"input.txt\". Make sure that you download this file in your working directory (the same directory in which you store your python file). \n",
    "Before we can read a file, we should make a file object."
   ]
  },
  {
   "cell_type": "code",
   "execution_count": 5,
   "metadata": {},
   "outputs": [],
   "source": [
    "#create a variable with the file name\n",
    "\n",
    "#create a variable of a file object in read mode\n",
    "\n",
    "#print the file object\n"
   ]
  },
  {
   "cell_type": "markdown",
   "metadata": {},
   "source": [
    "Printing the file object gives a bit of intimidating result. Do not let it intimidate you. It's just a file object in read mode with a certain encoding that can display the content.\n",
    "To display the content we can loop through the file object in the following manner:"
   ]
  },
  {
   "cell_type": "code",
   "execution_count": 6,
   "metadata": {},
   "outputs": [],
   "source": [
    "#create a variable with the file name\n",
    "\n",
    "#create a variable of a file object in read mode\n",
    "\n",
    "#loop to the lines and display the contents of the file\n",
    "\n",
    "#close the file object\n"
   ]
  },
  {
   "cell_type": "raw",
   "metadata": {},
   "source": [
    "The keyword \"line\" is now a placeholder for every line of the file. The first loop it refers to the first line, the second loop to the second.\n",
    "Note that a line break is introduced between each line. This is caused by the print function which normally introduces a line break after each printing event. This can be avoided by stripping the empty space (including newlines) from the lines."
   ]
  },
  {
   "cell_type": "code",
   "execution_count": 7,
   "metadata": {},
   "outputs": [],
   "source": [
    "mssg1 = \"Hello\\n\"\n",
    "mssg2 = \"How are you?\"\n",
    "#strip the whitespace and print\n"
   ]
  },
  {
   "cell_type": "markdown",
   "metadata": {},
   "source": [
    "Now open the file exercise2.txt and assign it to a variable.\n",
    "Use a for loop to loop throug each line. Avoid linebreaks between the lines using the strip method."
   ]
  },
  {
   "cell_type": "code",
   "execution_count": 8,
   "metadata": {},
   "outputs": [],
   "source": [
    "#write your script here\n"
   ]
  },
  {
   "cell_type": "markdown",
   "metadata": {},
   "source": [
    "## Write to a file"
   ]
  },
  {
   "cell_type": "markdown",
   "metadata": {},
   "source": [
    "Well done!\n",
    "So far we have opened a file and displayed its content.\n",
    "You may also want to write something to a file. \n",
    "You can use the print function to write lines to a file.\n",
    "\n",
    "Write code below using the help function that explores the print function."
   ]
  },
  {
   "cell_type": "code",
   "execution_count": null,
   "metadata": {},
   "outputs": [],
   "source": []
  },
  {
   "cell_type": "markdown",
   "metadata": {},
   "source": [
    "File objects are in 3 modi:\n",
    "- read (\"r\")\n",
    "- write (\"w\")\n",
    "- append (\"a\")\n",
    "Create a variable holding a file name below\n",
    "Create a file object in write modus and write something to the file\n",
    "Do not forget to close the file object"
   ]
  },
  {
   "cell_type": "code",
   "execution_count": 9,
   "metadata": {},
   "outputs": [],
   "source": [
    "#create a file \"output2.txt\" and write content to it.\n"
   ]
  },
  {
   "cell_type": "markdown",
   "metadata": {},
   "source": [
    "Now open the file and read the content"
   ]
  },
  {
   "cell_type": "code",
   "execution_count": 10,
   "metadata": {},
   "outputs": [],
   "source": [
    "#open the file and read the content\n"
   ]
  },
  {
   "cell_type": "markdown",
   "metadata": {},
   "source": [
    "## Write in append mode"
   ]
  },
  {
   "cell_type": "markdown",
   "metadata": {},
   "source": [
    "It is also possible to append files with new text. You can do this by writing to the file in append mode (\"a\").\n",
    "Append a new line of text to output2.txt."
   ]
  },
  {
   "cell_type": "code",
   "execution_count": 11,
   "metadata": {},
   "outputs": [],
   "source": [
    "#write a new line to output2.txt in append mode\n"
   ]
  },
  {
   "cell_type": "markdown",
   "metadata": {},
   "source": [
    "Now open the file and see if the line was added to the excisting file:"
   ]
  },
  {
   "cell_type": "code",
   "execution_count": 12,
   "metadata": {},
   "outputs": [],
   "source": [
    "#open the file and see if the new line is added\n"
   ]
  },
  {
   "cell_type": "markdown",
   "metadata": {},
   "source": [
    "## GC percentage calculator "
   ]
  },
  {
   "cell_type": "markdown",
   "metadata": {},
   "source": [
    "As a final excersise, write a script that:\n",
    "- opens a text file\n",
    "- for each line of DNA nucleotides calculates the GC percentage and prints it.\n",
    "- remembers the DNA sequence with the highest GC percentage\n",
    "- writes the DNA sequence with the highest GC percentage as well as the percentage to a file."
   ]
  },
  {
   "cell_type": "code",
   "execution_count": 13,
   "metadata": {},
   "outputs": [],
   "source": [
    "#write your script here\n",
    "\n"
   ]
  }
 ],
 "metadata": {
  "kernelspec": {
   "display_name": "Python 3",
   "language": "python",
   "name": "python3"
  },
  "language_info": {
   "codemirror_mode": {
    "name": "ipython",
    "version": 3
   },
   "file_extension": ".py",
   "mimetype": "text/x-python",
   "name": "python",
   "nbconvert_exporter": "python",
   "pygments_lexer": "ipython3",
   "version": "3.6.4"
  }
 },
 "nbformat": 4,
 "nbformat_minor": 2
}
