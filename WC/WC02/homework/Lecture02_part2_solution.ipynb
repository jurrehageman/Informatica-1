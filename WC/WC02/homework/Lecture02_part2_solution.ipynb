{
 "cells": [
  {
   "cell_type": "markdown",
   "metadata": {},
   "source": [
    "# Lecture 02: List, Tuples and Dictionaries"
   ]
  },
  {
   "cell_type": "markdown",
   "metadata": {},
   "source": [
    "## Chapters\n",
    "Author: Jurre Hageman"
   ]
  },
  {
   "cell_type": "markdown",
   "metadata": {},
   "source": [
    "## Working with lists"
   ]
  },
  {
   "cell_type": "markdown",
   "metadata": {},
   "source": [
    "List are mutable and ordered collections\n",
    "They have the following properties:\n",
    "- Lists are sequences of objects\n",
    "- They are in other languages also called sequences, vectors or arrays\n",
    "- They contain ordered series of objects: characters, strings, numbers, or any other Python object\n",
    "- They are quite similar to strings in many ways but with one important exception: they are mutable\n",
    "- Lists are created using square brackets, with elements separated by commas\n"
   ]
  },
  {
   "cell_type": "markdown",
   "metadata": {},
   "source": [
    "Here is an example of a Python list:"
   ]
  },
  {
   "cell_type": "code",
   "execution_count": 1,
   "metadata": {},
   "outputs": [
    {
     "name": "stdout",
     "output_type": "stream",
     "text": [
      "<class 'list'>\n"
     ]
    }
   ],
   "source": [
    "molecules = ['DNA', 'RNA', 'Protein']\n",
    "print(type(molecules))"
   ]
  },
  {
   "cell_type": "markdown",
   "metadata": {},
   "source": [
    "As you can see, the data type is a list. In a list, you can combine any data type:"
   ]
  },
  {
   "cell_type": "code",
   "execution_count": 2,
   "metadata": {},
   "outputs": [
    {
     "name": "stdout",
     "output_type": "stream",
     "text": [
      "<class 'bool'>\n",
      "<class 'int'>\n",
      "<class 'float'>\n",
      "<class 'str'>\n",
      "<class 'tuple'>\n",
      "<class 'list'>\n"
     ]
    }
   ],
   "source": [
    "a_lot_of_types = [True, 1, 1.0, \"string\", ('strings', 'in', 'tuple'), ['strings', 'in', 'list']]\n",
    "for i in a_lot_of_types: #walk through all items using a for loop\n",
    "    print(type(i))"
   ]
  },
  {
   "cell_type": "markdown",
   "metadata": {},
   "source": [
    "They have an order. Like any other sequence in Python, lists have a 0-based index. You can select items by indexing:"
   ]
  },
  {
   "cell_type": "code",
   "execution_count": 3,
   "metadata": {},
   "outputs": [
    {
     "name": "stdout",
     "output_type": "stream",
     "text": [
      "DNA\n",
      "Protein\n"
     ]
    }
   ],
   "source": [
    "print(molecules[0]) #First item\n",
    "print(molecules[2]) #Second item"
   ]
  },
  {
   "cell_type": "markdown",
   "metadata": {},
   "source": [
    "List are dynamic: you can add, delete and change items:"
   ]
  },
  {
   "cell_type": "code",
   "execution_count": 4,
   "metadata": {},
   "outputs": [
    {
     "name": "stdout",
     "output_type": "stream",
     "text": [
      "1 ['Jan']\n",
      "2 ['Jan', 'Piet']\n",
      "3 ['Jan', 'Piet', 'Truus', 'Lieske', 'Kim', 'Janneke']\n",
      "4 ['Piet', 'Truus', 'Lieske', 'Kim', 'Janneke']\n",
      "5 ['Piet', 'Lieske', 'Kim', 'Janneke']\n",
      "6 ['Piet', 'Lieske', 'Janneke']\n",
      "7 ['Pieter', 'Lieske', 'Janneke']\n"
     ]
    }
   ],
   "source": [
    "names = ['Jan']\n",
    "print(1, names)\n",
    "names.append('Piet') #append item to the end\n",
    "print(2, names)\n",
    "names = names + ['Truus', 'Lieske', 'Kim', 'Janneke'] #concatenates two lists\n",
    "print(3, names)\n",
    "names.pop(0) #delete first item\n",
    "print(4, names)\n",
    "names.remove('Truus') #Remove item\n",
    "print(5, names)\n",
    "del names[2] #remove by index\n",
    "print(6, names)\n",
    "names[0] = 'Pieter' #replace item\n",
    "print(7, names)"
   ]
  },
  {
   "cell_type": "markdown",
   "metadata": {},
   "source": [
    "Like strings (or any other collection), you can slice a list. <br>\n",
    "Slicing works as slicing on strings: <br>\n",
    "Thus: object[start:stop:step]"
   ]
  },
  {
   "cell_type": "code",
   "execution_count": 5,
   "metadata": {},
   "outputs": [
    {
     "name": "stdout",
     "output_type": "stream",
     "text": [
      "['Pieter', 'Lieske', 'Janneke', 'Mies', 'Roos', 'Gert']\n",
      "['Pieter', 'Lieske']\n",
      "['Gert', 'Roos', 'Mies', 'Janneke', 'Lieske', 'Pieter']\n",
      "['Roos', 'Gert']\n"
     ]
    }
   ],
   "source": [
    "names = names + ['Mies', 'Roos', 'Gert']\n",
    "print(names)\n",
    "print(names[0:2])\n",
    "print(names[::-1]) #slice that reverses the order\n",
    "#catch slice in variable:\n",
    "new_list = names[4:] #Note that a slice ALWAYS returns the same data type\n",
    "print(new_list)"
   ]
  },
  {
   "cell_type": "markdown",
   "metadata": {},
   "source": [
    "list.append() is a list specific method. To find all methods on lists type:"
   ]
  },
  {
   "cell_type": "code",
   "execution_count": 6,
   "metadata": {},
   "outputs": [
    {
     "name": "stdout",
     "output_type": "stream",
     "text": [
      "['__add__', '__class__', '__contains__', '__delattr__', '__delitem__', '__dir__', '__doc__', '__eq__', '__format__', '__ge__', '__getattribute__', '__getitem__', '__gt__', '__hash__', '__iadd__', '__imul__', '__init__', '__init_subclass__', '__iter__', '__le__', '__len__', '__lt__', '__mul__', '__ne__', '__new__', '__reduce__', '__reduce_ex__', '__repr__', '__reversed__', '__rmul__', '__setattr__', '__setitem__', '__sizeof__', '__str__', '__subclasshook__', 'append', 'clear', 'copy', 'count', 'extend', 'index', 'insert', 'pop', 'remove', 'reverse', 'sort']\n"
     ]
    }
   ],
   "source": [
    "print(dir(list))"
   ]
  },
  {
   "cell_type": "markdown",
   "metadata": {},
   "source": [
    "You can make nested lists (list of lists) which represents a table:"
   ]
  },
  {
   "cell_type": "code",
   "execution_count": 7,
   "metadata": {},
   "outputs": [],
   "source": [
    "table = [[1, 2, 3],[4, 5, 6],[7, 8, 9]]"
   ]
  },
  {
   "cell_type": "markdown",
   "metadata": {},
   "source": [
    "To show that this actually represents a table:"
   ]
  },
  {
   "cell_type": "code",
   "execution_count": 8,
   "metadata": {},
   "outputs": [
    {
     "name": "stdout",
     "output_type": "stream",
     "text": [
      "[1, 2, 3]\n",
      "[4, 5, 6]\n",
      "[7, 8, 9]\n"
     ]
    }
   ],
   "source": [
    "for row in table:\n",
    "    print(row)"
   ]
  },
  {
   "cell_type": "markdown",
   "metadata": {},
   "source": [
    "To get the item from the second column and the second row:"
   ]
  },
  {
   "cell_type": "code",
   "execution_count": 9,
   "metadata": {},
   "outputs": [
    {
     "name": "stdout",
     "output_type": "stream",
     "text": [
      "5\n"
     ]
    }
   ],
   "source": [
    "print(table[1][1])"
   ]
  },
  {
   "cell_type": "markdown",
   "metadata": {},
   "source": [
    "Some usefull list methods are count and index:"
   ]
  },
  {
   "cell_type": "code",
   "execution_count": 10,
   "metadata": {},
   "outputs": [
    {
     "name": "stdout",
     "output_type": "stream",
     "text": [
      "1 ['Pieter', 'Lieske', 'Janneke', 'Mies', 'Roos', 'Gert']\n",
      "2 ['Pieter', 'Lieske', 'Janneke', 'Mies', 'Roos', 'Gert', 'Lieske']\n",
      "3 2\n",
      "4 2\n"
     ]
    }
   ],
   "source": [
    "print(1, names)\n",
    "names.append('Lieske')\n",
    "print(2, names)\n",
    "print(3, names.count('Lieske'))\n",
    "print(4, names.index('Janneke'))"
   ]
  },
  {
   "cell_type": "markdown",
   "metadata": {},
   "source": [
    "And there are some usefull functions that work on lists (and any other iterable):"
   ]
  },
  {
   "cell_type": "code",
   "execution_count": 11,
   "metadata": {},
   "outputs": [
    {
     "name": "stdout",
     "output_type": "stream",
     "text": [
      "1 7\n",
      "2 14\n",
      "3 4\n",
      "4 42\n"
     ]
    }
   ],
   "source": [
    "numbers = [12, 14, 7, 9]\n",
    "print(1, min(numbers))\n",
    "print(2, max(numbers))\n",
    "print(3, len(numbers))\n",
    "print(4, sum(numbers))"
   ]
  },
  {
   "cell_type": "markdown",
   "metadata": {},
   "source": [
    "### Warning with making a copy of a list"
   ]
  },
  {
   "cell_type": "markdown",
   "metadata": {},
   "source": [
    "The following code will NOT make a copy of a list:"
   ]
  },
  {
   "cell_type": "code",
   "execution_count": 12,
   "metadata": {},
   "outputs": [
    {
     "name": "stdout",
     "output_type": "stream",
     "text": [
      "1 ['DNA', 'RNA']\n",
      "2 ['DNA', 'RNA']\n",
      "3 ['DNA', 'RNA', 'Protein']\n",
      "4 ['DNA', 'RNA', 'Protein']\n",
      "5 True\n",
      "6 True\n"
     ]
    }
   ],
   "source": [
    "my_list = ['DNA', 'RNA']\n",
    "print(1, my_list)\n",
    "my_copy = my_list # This is not a copy but a reference to the same object in memory\n",
    "print(2, my_copy)\n",
    "my_copy.append('Protein')\n",
    "print(3, my_list)\n",
    "print(4, my_copy)\n",
    "print(5, my_list == my_copy) #the content of the list is the same\n",
    "print(6, my_list is my_copy) #but it is also the same object in memory!"
   ]
  },
  {
   "cell_type": "markdown",
   "metadata": {},
   "source": [
    "To make a real copy either slice the list or use the copy method"
   ]
  },
  {
   "cell_type": "code",
   "execution_count": 13,
   "metadata": {},
   "outputs": [
    {
     "name": "stdout",
     "output_type": "stream",
     "text": [
      "1 True\n",
      "2 False\n",
      "3 ['DNA', 'RNA', 'Protein']\n",
      "4 ['DNA', 'RNA', 'Protein', 'Lipid']\n",
      "5 ['DNA', 'RNA', 'Protein', 'Carbohydrate']\n"
     ]
    }
   ],
   "source": [
    "my_real_copy = my_list[:] #slices the the objects from my_list\n",
    "my_second_real_copy = my_list.copy()\n",
    "print(1, my_list == my_real_copy) #the content of the list is the same\n",
    "print(2, my_list is my_real_copy) #but now it is NOT the same object in memory!\n",
    "my_real_copy.append('Lipid')\n",
    "my_second_real_copy.append('Carbohydrate')\n",
    "print(3, my_list)\n",
    "print(4, my_real_copy)\n",
    "print(5, my_second_real_copy)"
   ]
  },
  {
   "cell_type": "markdown",
   "metadata": {},
   "source": [
    "### From list to string"
   ]
  },
  {
   "cell_type": "markdown",
   "metadata": {},
   "source": [
    "You can stringify a list using the ''.join() method (which is technically a string method):"
   ]
  },
  {
   "cell_type": "code",
   "execution_count": 14,
   "metadata": {},
   "outputs": [
    {
     "name": "stdout",
     "output_type": "stream",
     "text": [
      "1 ['DNA', 'RNA', 'Protein']\n",
      "2 DNARNAProtein\n",
      "3 DNA,RNA,Protein\n"
     ]
    }
   ],
   "source": [
    "print(1, my_list)\n",
    "stringified_list = ''.join(my_list)\n",
    "print(2, stringified_list)\n",
    "stringified_list_commas = ','.join(my_list) #use , as a seperator\n",
    "print(3, stringified_list_commas)"
   ]
  },
  {
   "cell_type": "markdown",
   "metadata": {},
   "source": [
    "## Tuples"
   ]
  },
  {
   "cell_type": "markdown",
   "metadata": {},
   "source": [
    "Tuples are like lists but immutable. Like lists, tuples are ordered collections of objects. As they are immutable, tuples have less methods:"
   ]
  },
  {
   "cell_type": "code",
   "execution_count": 15,
   "metadata": {},
   "outputs": [
    {
     "name": "stdout",
     "output_type": "stream",
     "text": [
      "['__add__', '__class__', '__contains__', '__delattr__', '__dir__', '__doc__', '__eq__', '__format__', '__ge__', '__getattribute__', '__getitem__', '__getnewargs__', '__gt__', '__hash__', '__init__', '__init_subclass__', '__iter__', '__le__', '__len__', '__lt__', '__mul__', '__ne__', '__new__', '__reduce__', '__reduce_ex__', '__repr__', '__rmul__', '__setattr__', '__sizeof__', '__str__', '__subclasshook__', 'count', 'index']\n"
     ]
    }
   ],
   "source": [
    "print(dir(tuple))"
   ]
  },
  {
   "cell_type": "markdown",
   "metadata": {},
   "source": [
    "Note that the only \"normal\" methods are count and index. Tuples are created using the () notation."
   ]
  },
  {
   "cell_type": "code",
   "execution_count": 16,
   "metadata": {},
   "outputs": [],
   "source": [
    "my_tuple = ('DNA', 'Protein', 'RNA')"
   ]
  },
  {
   "cell_type": "markdown",
   "metadata": {},
   "source": [
    "Indexing en slicing is all fine: "
   ]
  },
  {
   "cell_type": "code",
   "execution_count": 17,
   "metadata": {},
   "outputs": [
    {
     "name": "stdout",
     "output_type": "stream",
     "text": [
      "Protein\n",
      "('RNA', 'Protein', 'DNA')\n"
     ]
    }
   ],
   "source": [
    "print(my_tuple[1])\n",
    "print(my_tuple[::-1]) #Note that a slice will always return the same datatype"
   ]
  },
  {
   "cell_type": "markdown",
   "metadata": {},
   "source": [
    "However, modification of a Tuple yields an error:"
   ]
  },
  {
   "cell_type": "code",
   "execution_count": 18,
   "metadata": {},
   "outputs": [
    {
     "ename": "TypeError",
     "evalue": "'tuple' object does not support item assignment",
     "output_type": "error",
     "traceback": [
      "\u001b[0;31m---------------------------------------------------------------------------\u001b[0m",
      "\u001b[0;31mTypeError\u001b[0m                                 Traceback (most recent call last)",
      "\u001b[0;32m<ipython-input-18-aba24bf93c38>\u001b[0m in \u001b[0;36m<module>\u001b[0;34m()\u001b[0m\n\u001b[0;32m----> 1\u001b[0;31m \u001b[0mmy_tuple\u001b[0m\u001b[0;34m[\u001b[0m\u001b[0;36m1\u001b[0m\u001b[0;34m]\u001b[0m \u001b[0;34m=\u001b[0m \u001b[0;34m'Carbohydrate'\u001b[0m\u001b[0;34m\u001b[0m\u001b[0m\n\u001b[0m",
      "\u001b[0;31mTypeError\u001b[0m: 'tuple' object does not support item assignment"
     ]
    }
   ],
   "source": [
    "my_tuple[1] = 'Carbohydrate'"
   ]
  },
  {
   "cell_type": "markdown",
   "metadata": {},
   "source": [
    "The use of tuples might seem obscure at first but later you will discover that they are very handy. The fact that they are immutable make them ideal as argument 'lists' for functions, to write data to databases and to use as keys in dictionaries (see later). The fact that tuples are immutable garuantees that your data will arrive safe and unmodified! "
   ]
  },
  {
   "cell_type": "markdown",
   "metadata": {},
   "source": [
    "## Dictionaries"
   ]
  },
  {
   "cell_type": "markdown",
   "metadata": {},
   "source": [
    "Dictionaries are tables of key/ value pairs. Unlike lists they hold associative data. It is only possible to get from a key to a value. Not the other way around. A dictionary is coded using the {} characters:"
   ]
  },
  {
   "cell_type": "code",
   "execution_count": 19,
   "metadata": {},
   "outputs": [],
   "source": [
    "comp_bases = {'A': 'T', 'C':'G'}"
   ]
  },
  {
   "cell_type": "markdown",
   "metadata": {},
   "source": [
    "You can access a value by providing the key:"
   ]
  },
  {
   "cell_type": "code",
   "execution_count": 20,
   "metadata": {},
   "outputs": [
    {
     "name": "stdout",
     "output_type": "stream",
     "text": [
      "T\n"
     ]
    }
   ],
   "source": [
    "print(comp_bases['A'])"
   ]
  },
  {
   "cell_type": "markdown",
   "metadata": {},
   "source": [
    "To add items:"
   ]
  },
  {
   "cell_type": "code",
   "execution_count": 21,
   "metadata": {},
   "outputs": [
    {
     "name": "stdout",
     "output_type": "stream",
     "text": [
      "{'A': 'T', 'C': 'G', 'T': 'A', 'G': 'C'}\n"
     ]
    }
   ],
   "source": [
    "comp_bases['T'] = 'A' #this way\n",
    "comp_bases.update({'G':'C'}) #or this way\n",
    "print(comp_bases)"
   ]
  },
  {
   "cell_type": "markdown",
   "metadata": {},
   "source": [
    "To delete items:"
   ]
  },
  {
   "cell_type": "code",
   "execution_count": 22,
   "metadata": {},
   "outputs": [
    {
     "name": "stdout",
     "output_type": "stream",
     "text": [
      "{'C': 'G', 'G': 'C'}\n"
     ]
    }
   ],
   "source": [
    "del comp_bases['A']\n",
    "del comp_bases['T']\n",
    "print(comp_bases)"
   ]
  },
  {
   "cell_type": "markdown",
   "metadata": {},
   "source": [
    "Asking for a key that does not excists raises an error:"
   ]
  },
  {
   "cell_type": "code",
   "execution_count": 23,
   "metadata": {},
   "outputs": [
    {
     "ename": "KeyError",
     "evalue": "'Q'",
     "output_type": "error",
     "traceback": [
      "\u001b[0;31m---------------------------------------------------------------------------\u001b[0m",
      "\u001b[0;31mKeyError\u001b[0m                                  Traceback (most recent call last)",
      "\u001b[0;32m<ipython-input-23-72454a5e1ef9>\u001b[0m in \u001b[0;36m<module>\u001b[0;34m()\u001b[0m\n\u001b[0;32m----> 1\u001b[0;31m \u001b[0mprint\u001b[0m\u001b[0;34m(\u001b[0m\u001b[0mcomp_bases\u001b[0m\u001b[0;34m[\u001b[0m\u001b[0;34m'Q'\u001b[0m\u001b[0;34m]\u001b[0m\u001b[0;34m)\u001b[0m\u001b[0;34m\u001b[0m\u001b[0m\n\u001b[0m",
      "\u001b[0;31mKeyError\u001b[0m: 'Q'"
     ]
    }
   ],
   "source": [
    "print(comp_bases['Q'])"
   ]
  },
  {
   "cell_type": "markdown",
   "metadata": {},
   "source": [
    "You can prevent this using the dict.get() method: "
   ]
  },
  {
   "cell_type": "code",
   "execution_count": 24,
   "metadata": {},
   "outputs": [
    {
     "name": "stdout",
     "output_type": "stream",
     "text": [
      "None\n"
     ]
    }
   ],
   "source": [
    "print(comp_bases.get('Q')) #returns None if a key is not found and prevents an error"
   ]
  },
  {
   "cell_type": "markdown",
   "metadata": {},
   "source": [
    "Keys need to be unique. Importantly, note that dictionaries lack order. It is not possible to have a normal dictionary ordered. "
   ]
  },
  {
   "cell_type": "markdown",
   "metadata": {},
   "source": [
    "## Excercise:"
   ]
  },
  {
   "cell_type": "markdown",
   "metadata": {},
   "source": [
    "Now we come to the final excersise: Code a program that will use the following DNA sequence:"
   ]
  },
  {
   "cell_type": "code",
   "execution_count": null,
   "metadata": {},
   "outputs": [],
   "source": [
    "dna = \"caacttttttt\""
   ]
  },
  {
   "cell_type": "markdown",
   "metadata": {},
   "source": [
    "Now write code to print the following to the screen:\n",
    "\n",
    "The original sequence in upper case\n",
    "The reverse string in upper case\n",
    "The complement string in upper case\n",
    "The reverse-complement string in upper case.\n",
    "\n",
    "Make sure you use a stringified list instead of string concatenation. Also make use of a dictionary for complementary bases."
   ]
  }
 ],
 "metadata": {
  "kernelspec": {
   "display_name": "Python 3",
   "language": "python",
   "name": "python3"
  },
  "language_info": {
   "codemirror_mode": {
    "name": "ipython",
    "version": 3
   },
   "file_extension": ".py",
   "mimetype": "text/x-python",
   "name": "python",
   "nbconvert_exporter": "python",
   "pygments_lexer": "ipython3",
   "version": "3.6.4"
  }
 },
 "nbformat": 4,
 "nbformat_minor": 1
}
