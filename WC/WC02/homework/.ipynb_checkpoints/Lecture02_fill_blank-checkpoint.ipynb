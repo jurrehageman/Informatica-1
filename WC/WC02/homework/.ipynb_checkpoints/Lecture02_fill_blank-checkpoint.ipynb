{
 "cells": [
  {
   "cell_type": "markdown",
   "metadata": {},
   "source": [
    "# Lecture 02: List, Tuples and Dictionaries"
   ]
  },
  {
   "cell_type": "markdown",
   "metadata": {},
   "source": [
    "Author: Jurre Hageman"
   ]
  },
  {
   "cell_type": "markdown",
   "metadata": {},
   "source": [
    "## Working with lists"
   ]
  },
  {
   "cell_type": "markdown",
   "metadata": {},
   "source": [
    "List are mutable and ordered collections\n",
    "They have the following properties:\n",
    "- Lists are sequences of objects\n",
    "- They are in other languages also called sequences, vectors or arrays\n",
    "- They contain ordered series of objects: characters, strings, numbers, or any other Python object\n",
    "- They are quite similar to strings in many ways but with one important exception: they are mutable\n",
    "- Lists are created using square brackets, with elements separated by commas\n"
   ]
  },
  {
   "cell_type": "markdown",
   "metadata": {},
   "source": [
    "Write a Python list below. Assign it to the variable \"molecules\".\n",
    "The list should contain the string objects DNA, RNA and protein.\n",
    "Print the list and the type."
   ]
  },
  {
   "cell_type": "code",
   "execution_count": 1,
   "metadata": {},
   "outputs": [],
   "source": [
    "molecules = None #define your list here\n",
    "#print your list\n",
    "#print the type"
   ]
  },
  {
   "cell_type": "markdown",
   "metadata": {},
   "source": [
    "As you can see, the data type is a list. In a list, you can combine any data type. Make a list that contains a Boolean, integer, float, string, strings in a tuple and strings in a list.\n",
    "Loop to the list and print the type of each item."
   ]
  },
  {
   "cell_type": "code",
   "execution_count": 2,
   "metadata": {},
   "outputs": [],
   "source": [
    "a_lot_of_types = None #define your list\n",
    "# loop to the items of the list and print the data type."
   ]
  },
  {
   "cell_type": "markdown",
   "metadata": {},
   "source": [
    "They have an order. Like any other sequence in Python, lists have a 0-based index. You can select items by indexing:"
   ]
  },
  {
   "cell_type": "code",
   "execution_count": 3,
   "metadata": {},
   "outputs": [],
   "source": [
    "# print the first item of the list molecules\n",
    "# print the second item of the list molecules"
   ]
  },
  {
   "cell_type": "markdown",
   "metadata": {},
   "source": [
    "List are dynamic: you can add, delete and change items:"
   ]
  },
  {
   "cell_type": "code",
   "execution_count": 4,
   "metadata": {},
   "outputs": [
    {
     "name": "stdout",
     "output_type": "stream",
     "text": [
      "1 ['Jan']\n"
     ]
    }
   ],
   "source": [
    "names = ['Jan']\n",
    "print(1, names) \n",
    "#I used (1, names) so that you can keep track of the print statements.\n",
    "#The next print statement will be print(2, names) etc.\n",
    "\n",
    "#append Piet to the end of names\n",
    "\n",
    "#print names\n",
    "\n",
    "#concatenates names with ['Truus', 'Lieske', 'Kim', 'Janneke']\n",
    "\n",
    "#print names\n",
    "\n",
    "#delete first item from the list\n",
    "\n",
    "#print names\n",
    "\n",
    "#Remove Truus by name\n",
    "\n",
    "#print names\n",
    "\n",
    "#remove Kim by index\n",
    "\n",
    "#print names\n",
    "\n",
    "#replace the first item with Pieter\n",
    "\n",
    "#print names"
   ]
  },
  {
   "cell_type": "markdown",
   "metadata": {},
   "source": [
    "Like strings (or any other collection), you can slice a list. <br>\n",
    "Slicing works as slicing on strings: <br>\n",
    "Thus: object[start:stop:step]"
   ]
  },
  {
   "cell_type": "code",
   "execution_count": 5,
   "metadata": {},
   "outputs": [
    {
     "name": "stdout",
     "output_type": "stream",
     "text": [
      "['Jan', 'Mies', 'Roos', 'Gert']\n",
      "None\n"
     ]
    }
   ],
   "source": [
    "names = names + ['Mies', 'Roos', 'Gert']\n",
    "print(names)\n",
    "#now slice names for the first up to but not including the third element\n",
    "\n",
    "#print names\n",
    "\n",
    "#slice names in a way that reverses the order\n",
    "\n",
    "#print names\n",
    "\n",
    "#catch slice in variable:\n",
    "new_list = None #catch a slice of names from item 5 untill the end in this variable.\n",
    "#Note that a slice ALWAYS returns the same data type\n",
    "print(new_list)"
   ]
  },
  {
   "cell_type": "markdown",
   "metadata": {},
   "source": [
    "list.append() is a list specific method. To find all methods on lists type:"
   ]
  },
  {
   "cell_type": "code",
   "execution_count": 6,
   "metadata": {},
   "outputs": [],
   "source": [
    "#write code that shows all the methods of a list object"
   ]
  },
  {
   "cell_type": "markdown",
   "metadata": {},
   "source": [
    "You can make nested lists (list of lists) which represents a table:"
   ]
  },
  {
   "cell_type": "code",
   "execution_count": 7,
   "metadata": {},
   "outputs": [],
   "source": [
    "table = None #generate a list containing three lists with integers. \n",
    "# Use 1, 2, 3 up to 9 as integers."
   ]
  },
  {
   "cell_type": "markdown",
   "metadata": {},
   "source": [
    "To show that this actually represents a table:"
   ]
  },
  {
   "cell_type": "code",
   "execution_count": 8,
   "metadata": {},
   "outputs": [],
   "source": [
    "# use a for loop to print each row of the table"
   ]
  },
  {
   "cell_type": "markdown",
   "metadata": {},
   "source": [
    "To get the item from the second column and the second row:"
   ]
  },
  {
   "cell_type": "code",
   "execution_count": 9,
   "metadata": {},
   "outputs": [],
   "source": [
    "# print the second item from the row using a single statement"
   ]
  },
  {
   "cell_type": "markdown",
   "metadata": {},
   "source": [
    "Some usefull list methods are count and index:"
   ]
  },
  {
   "cell_type": "code",
   "execution_count": 10,
   "metadata": {},
   "outputs": [
    {
     "name": "stdout",
     "output_type": "stream",
     "text": [
      "1 ['Jan', 'Mies', 'Roos', 'Gert']\n",
      "2 ['Jan', 'Mies', 'Roos', 'Gert', 'Lieske']\n",
      "3 ['Jan', 'Mies', 'Roos', 'Gert', 'Lieske']\n",
      "4 ['Jan', 'Mies', 'Roos', 'Gert', 'Lieske']\n"
     ]
    }
   ],
   "source": [
    "print(1, names)\n",
    "names.append('Lieske')\n",
    "print(2, names)\n",
    "print(3, names) #modify this so that it counts the occurences of Lieske.\n",
    "print(4, names) #modify this so that it prints the first index of Lieske"
   ]
  },
  {
   "cell_type": "markdown",
   "metadata": {},
   "source": [
    "And there are some usefull functions that work on lists (and any other iterable):"
   ]
  },
  {
   "cell_type": "code",
   "execution_count": 11,
   "metadata": {},
   "outputs": [],
   "source": [
    "numbers = [12, 14, 7, 9]\n",
    "#use a build-in function to print the minimal value of numbers.\n",
    "\n",
    "#use a build-in function to print the maximal value of numbers.\n",
    "\n",
    "#use a build-in function to print the length of numbers.\n",
    "\n",
    "#use a build-in function to print the sum of numbers.\n"
   ]
  },
  {
   "cell_type": "markdown",
   "metadata": {},
   "source": [
    "### Warning with making a copy of a list"
   ]
  },
  {
   "cell_type": "markdown",
   "metadata": {},
   "source": [
    "The following code will NOT make a copy of a list:\n",
    "You do not have to modify the code below. \n",
    "Study it carefully!"
   ]
  },
  {
   "cell_type": "code",
   "execution_count": 12,
   "metadata": {},
   "outputs": [
    {
     "name": "stdout",
     "output_type": "stream",
     "text": [
      "1 ['DNA', 'RNA']\n",
      "2 ['DNA', 'RNA']\n",
      "3 ['DNA', 'RNA', 'Protein']\n",
      "4 ['DNA', 'RNA', 'Protein']\n",
      "5 True\n",
      "6 True\n"
     ]
    }
   ],
   "source": [
    "my_list = ['DNA', 'RNA']\n",
    "print(1, my_list)\n",
    "my_copy = my_list # This is not a copy but a reference to the same object in memory\n",
    "print(2, my_copy)\n",
    "my_copy.append('Protein')\n",
    "print(3, my_list)\n",
    "print(4, my_copy)\n",
    "print(5, my_list == my_copy) #the content of the list is the same\n",
    "print(6, my_list is my_copy) #but it is also the same object in memory!"
   ]
  },
  {
   "cell_type": "markdown",
   "metadata": {},
   "source": [
    "To make a real copy either slice the list or use the copy method"
   ]
  },
  {
   "cell_type": "code",
   "execution_count": 13,
   "metadata": {},
   "outputs": [
    {
     "name": "stdout",
     "output_type": "stream",
     "text": [
      "1 True\n",
      "2 False\n",
      "3 ['DNA', 'RNA', 'Protein']\n",
      "4 ['DNA', 'RNA', 'Protein', 'Lipid']\n",
      "5 ['DNA', 'RNA', 'Protein', 'Carbohydrate']\n"
     ]
    }
   ],
   "source": [
    "my_real_copy = my_list[:] #slices the the objects from my_list\n",
    "my_second_real_copy = my_list.copy()\n",
    "print(1, my_list == my_real_copy) #the content of the list is the same\n",
    "print(2, my_list is my_real_copy) #but now it is NOT the same object in memory!\n",
    "my_real_copy.append('Lipid')\n",
    "my_second_real_copy.append('Carbohydrate')\n",
    "print(3, my_list)\n",
    "print(4, my_real_copy)\n",
    "print(5, my_second_real_copy)"
   ]
  },
  {
   "cell_type": "markdown",
   "metadata": {},
   "source": [
    "### From list to string"
   ]
  },
  {
   "cell_type": "markdown",
   "metadata": {},
   "source": [
    "You can stringify a list using the ''.join() method (which is technically a string method):"
   ]
  },
  {
   "cell_type": "code",
   "execution_count": 14,
   "metadata": {},
   "outputs": [
    {
     "name": "stdout",
     "output_type": "stream",
     "text": [
      "1 ['DNA', 'RNA', 'Protein']\n",
      "2 None\n",
      "3 None\n"
     ]
    }
   ],
   "source": [
    "print(1, my_list)\n",
    "stringified_list = None #make a string from my_list\n",
    "print(2, stringified_list)\n",
    "stringified_list_commas = None #make a string from my_list but use a comma as a seperator\n",
    "print(3, stringified_list_commas)"
   ]
  },
  {
   "cell_type": "markdown",
   "metadata": {},
   "source": [
    "## Tuples"
   ]
  },
  {
   "cell_type": "markdown",
   "metadata": {},
   "source": [
    "Tuples are like lists but immutable. Like lists, tuples are ordered collections of objects. As they are immutable, tuples have less methods:"
   ]
  },
  {
   "cell_type": "code",
   "execution_count": 15,
   "metadata": {},
   "outputs": [],
   "source": [
    "#print all the methods of the tuple object"
   ]
  },
  {
   "cell_type": "markdown",
   "metadata": {},
   "source": [
    "Note that the only \"normal\" methods are count and index. Tuples are created using the () notation."
   ]
  },
  {
   "cell_type": "code",
   "execution_count": 16,
   "metadata": {},
   "outputs": [],
   "source": [
    "my_tuple = None #generate a tuple with the strings DNA, Protein and RNA as items\n",
    "#print the tuple\n",
    "#print the type"
   ]
  },
  {
   "cell_type": "markdown",
   "metadata": {},
   "source": [
    "Indexing en slicing is all fine: "
   ]
  },
  {
   "cell_type": "code",
   "execution_count": 17,
   "metadata": {},
   "outputs": [
    {
     "name": "stdout",
     "output_type": "stream",
     "text": [
      "None\n",
      "None\n"
     ]
    }
   ],
   "source": [
    "print(my_tuple) #modify so that the first element is printed\n",
    "print(my_tuple) #Slice in reverse order. Note that a slice will always return the same datatype"
   ]
  },
  {
   "cell_type": "markdown",
   "metadata": {},
   "source": [
    "However, modification of a Tuple yields an error:"
   ]
  },
  {
   "cell_type": "code",
   "execution_count": 18,
   "metadata": {},
   "outputs": [],
   "source": [
    "my_tuple = None #modify the second element of the tuple to the string Carbohydrate.\n",
    "#What type of error do you see?"
   ]
  },
  {
   "cell_type": "markdown",
   "metadata": {},
   "source": [
    "The use of tuples might seem obscure at first but later you will discover that they are very handy. The fact that they are immutable make them ideal as argument 'lists' for functions, to write data to databases and to use as keys in dictionaries (see later). The fact that tuples are immutable garuantees that your data will arrive safe and unmodified! "
   ]
  },
  {
   "cell_type": "markdown",
   "metadata": {},
   "source": [
    "## Dictionaries"
   ]
  },
  {
   "cell_type": "markdown",
   "metadata": {},
   "source": [
    "Dictionaries are tables of key/ value pairs. Unlike lists they hold associative data. It is only possible to get from a key to a value. Not the other way around. A dictionary is coded using the {} characters:"
   ]
  },
  {
   "cell_type": "code",
   "execution_count": 19,
   "metadata": {},
   "outputs": [],
   "source": [
    "comp_bases = None #make a dict with the key-value pairs A:T and C:G"
   ]
  },
  {
   "cell_type": "markdown",
   "metadata": {},
   "source": [
    "You can access a value by providing the key:"
   ]
  },
  {
   "cell_type": "code",
   "execution_count": 20,
   "metadata": {},
   "outputs": [
    {
     "name": "stdout",
     "output_type": "stream",
     "text": [
      "None\n"
     ]
    }
   ],
   "source": [
    "print(comp_bases) #modify this code to access the key \"A\""
   ]
  },
  {
   "cell_type": "markdown",
   "metadata": {},
   "source": [
    "To add items:"
   ]
  },
  {
   "cell_type": "code",
   "execution_count": 21,
   "metadata": {},
   "outputs": [
    {
     "name": "stdout",
     "output_type": "stream",
     "text": [
      "None\n"
     ]
    }
   ],
   "source": [
    "comp_bases = None #modify this code to update the dict with the T:A key-value pair.\n",
    "comp_bases = None #modify this code to update the dict with the G:C key-value pair.\n",
    "print(comp_bases)"
   ]
  },
  {
   "cell_type": "markdown",
   "metadata": {},
   "source": [
    "To delete items:"
   ]
  },
  {
   "cell_type": "code",
   "execution_count": 22,
   "metadata": {},
   "outputs": [
    {
     "name": "stdout",
     "output_type": "stream",
     "text": [
      "None\n"
     ]
    }
   ],
   "source": [
    "#delete the A:T key-value pair\n",
    "\n",
    "#delete the T:A key-value pair\n",
    "\n",
    "print(comp_bases)"
   ]
  },
  {
   "cell_type": "markdown",
   "metadata": {},
   "source": [
    "Asking for a key that does not excists raises an error:"
   ]
  },
  {
   "cell_type": "code",
   "execution_count": 23,
   "metadata": {},
   "outputs": [],
   "source": [
    "#try to access the key Q\n",
    "#What is the error?"
   ]
  },
  {
   "cell_type": "markdown",
   "metadata": {},
   "source": [
    "You can prevent this using the dict.get() method: "
   ]
  },
  {
   "cell_type": "code",
   "execution_count": 24,
   "metadata": {},
   "outputs": [],
   "source": [
    "#Try to access the key Q using the dict.get() method. \n",
    "#What does it return if you print it?"
   ]
  },
  {
   "cell_type": "markdown",
   "metadata": {},
   "source": [
    "Keys need to be unique. Importantly, note that dictionaries lack order. It is not possible to have a normal dictionary ordered. "
   ]
  },
  {
   "cell_type": "markdown",
   "metadata": {},
   "source": [
    "## Excercise:"
   ]
  },
  {
   "cell_type": "markdown",
   "metadata": {},
   "source": [
    "Now we come to the final excersise: Code a program that will use the following DNA sequence:"
   ]
  },
  {
   "cell_type": "code",
   "execution_count": 25,
   "metadata": {},
   "outputs": [],
   "source": [
    "dna = \"caacttttttt\""
   ]
  },
  {
   "cell_type": "markdown",
   "metadata": {},
   "source": [
    "Now write code to print the following to the screen:\n",
    "\n",
    "The original sequence in upper case\n",
    "The reverse string in upper case\n",
    "The complement string in upper case\n",
    "The reverse-complement string in upper case.\n",
    "\n",
    "Make use of a dictionary for complementary bases."
   ]
  }
 ],
 "metadata": {
  "kernelspec": {
   "display_name": "Python 3",
   "language": "python",
   "name": "python3"
  },
  "language_info": {
   "codemirror_mode": {
    "name": "ipython",
    "version": 3
   },
   "file_extension": ".py",
   "mimetype": "text/x-python",
   "name": "python",
   "nbconvert_exporter": "python",
   "pygments_lexer": "ipython3",
   "version": "3.6.4"
  }
 },
 "nbformat": 4,
 "nbformat_minor": 1
}
