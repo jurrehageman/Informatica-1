{
 "cells": [
  {
   "cell_type": "markdown",
   "metadata": {
    "collapsed": true
   },
   "source": [
    "# Lecture 01: Variable assignment, Lists, Object Methods and Control Flow"
   ]
  },
  {
   "cell_type": "markdown",
   "metadata": {},
   "source": [
    "## Chapters\n",
    "Chapter 1: The Basics: Getting Started Quickly  <br>\n",
    "Author: Ronald Wedema and Jurre Hageman"
   ]
  },
  {
   "cell_type": "markdown",
   "metadata": {},
   "source": [
    "## Introduction to Python\n",
    "Read the introduction to Python presentation. This presentation is available at Blackboard. It gives a short introduction to programming."
   ]
  },
  {
   "cell_type": "markdown",
   "metadata": {},
   "source": [
    "## Basic data types\n",
    "Program languages use different data types. Here are some basic data types:"
   ]
  },
  {
   "cell_type": "markdown",
   "metadata": {},
   "source": [
    "One of the most basic datatypes is **None**. None is used as a flag to set a variable (see below) to \"nothing\". Note that None is not equal to 0. Zero is a value and not the same as None. Imagine a calculator written in Python. The programmer might set the user input initially to None. As soon as the user inputs a number, None is replaced by the number. Here is an example of the None data type: "
   ]
  },
  {
   "cell_type": "code",
   "execution_count": 2,
   "metadata": {},
   "outputs": [
    {
     "name": "stdout",
     "output_type": "stream",
     "text": [
      "None\n",
      "<class 'NoneType'>\n"
     ]
    }
   ],
   "source": [
    "None\n",
    "print(None)\n",
    "print(type(None))"
   ]
  },
  {
   "cell_type": "markdown",
   "metadata": {},
   "source": [
    "Another basic datatype is the **Boolean**. There are two Booleans in Python: True and False. Here is an example:"
   ]
  },
  {
   "cell_type": "code",
   "execution_count": 4,
   "metadata": {},
   "outputs": [
    {
     "name": "stdout",
     "output_type": "stream",
     "text": [
      "<class 'bool'>\n",
      "<class 'bool'>\n"
     ]
    }
   ],
   "source": [
    "True\n",
    "False\n",
    "print(type(True))\n",
    "print(type(False))"
   ]
  },
  {
   "cell_type": "markdown",
   "metadata": {},
   "source": [
    "A bit weird in Python is that True in Python equals 1 and False equals 0:"
   ]
  },
  {
   "cell_type": "code",
   "execution_count": 6,
   "metadata": {},
   "outputs": [
    {
     "name": "stdout",
     "output_type": "stream",
     "text": [
      "True\n",
      "True\n"
     ]
    }
   ],
   "source": [
    "print(True == 1)\n",
    "print(False == 0)"
   ]
  },
  {
   "cell_type": "markdown",
   "metadata": {},
   "source": [
    "Numbers can be represented by **integers** (whole numbers) and floating point numbers or shortly **floats** (decimal numbers):"
   ]
  },
  {
   "cell_type": "code",
   "execution_count": 9,
   "metadata": {},
   "outputs": [
    {
     "name": "stdout",
     "output_type": "stream",
     "text": [
      "<class 'int'>\n",
      "<class 'int'>\n",
      "<class 'float'>\n",
      "<class 'float'>\n"
     ]
    }
   ],
   "source": [
    "2\n",
    "-2\n",
    "print(type(2))\n",
    "print(type(-2))\n",
    "\n",
    "0.2\n",
    "-0.2\n",
    "print(type(0.2))\n",
    "print(type(-0.2))"
   ]
  },
  {
   "cell_type": "markdown",
   "metadata": {},
   "source": [
    "It is important to note that computers have problems with the representation of floats with high precision:"
   ]
  },
  {
   "cell_type": "code",
   "execution_count": 11,
   "metadata": {},
   "outputs": [
    {
     "name": "stdout",
     "output_type": "stream",
     "text": [
      "1.2999999999999998\n"
     ]
    }
   ],
   "source": [
    "print(0.7 + 0.6)"
   ]
  },
  {
   "cell_type": "markdown",
   "metadata": {},
   "source": [
    "Which can lead to some weird outcomes:"
   ]
  },
  {
   "cell_type": "code",
   "execution_count": 12,
   "metadata": {},
   "outputs": [
    {
     "data": {
      "text/plain": [
       "False"
      ]
     },
     "execution_count": 12,
     "metadata": {},
     "output_type": "execute_result"
    }
   ],
   "source": [
    "0.7 + 0.6 == 1.3"
   ]
  },
  {
   "cell_type": "markdown",
   "metadata": {},
   "source": [
    "Other datatypes like strings and lists are discussed below or subsequent lessons."
   ]
  },
  {
   "cell_type": "markdown",
   "metadata": {},
   "source": [
    "## Assigning variables\n",
    "In Python assigning data means that you use the **assignment operator** (**=**) to store some data into a variable. As the word variable allready implies, the content can change."
   ]
  },
  {
   "cell_type": "markdown",
   "metadata": {},
   "source": [
    "Here is a example of variable assignment:"
   ]
  },
  {
   "cell_type": "code",
   "execution_count": 1,
   "metadata": {},
   "outputs": [
    {
     "name": "stdout",
     "output_type": "stream",
     "text": [
      "1\n",
      "<class 'int'>\n"
     ]
    }
   ],
   "source": [
    "x = 1\n",
    "print(x)\n",
    "print(type(x))\n"
   ]
  },
  {
   "cell_type": "markdown",
   "metadata": {},
   "source": [
    "In the above example we not only assigned a whole number (int) using the assignment operator. We also used the Python buildin **print()** method to print the content to screen. Lastly, we showed what the type of the variable is using the type() method. \n",
    "\n",
    "Here are some other examples of variable assignments. Each time showing the type of the variable."
   ]
  },
  {
   "cell_type": "code",
   "execution_count": 2,
   "metadata": {},
   "outputs": [
    {
     "name": "stdout",
     "output_type": "stream",
     "text": [
      "Hello world!\n",
      "<class 'str'>\n"
     ]
    }
   ],
   "source": [
    "x = \"Hello world!\"\n",
    "print(x)\n",
    "print(type(x))"
   ]
  },
  {
   "cell_type": "code",
   "execution_count": 3,
   "metadata": {},
   "outputs": [
    {
     "name": "stdout",
     "output_type": "stream",
     "text": [
      "[10]\n",
      "<class 'list'>\n"
     ]
    }
   ],
   "source": [
    "x = [10]\n",
    "print(x)\n",
    "print(type(x))"
   ]
  },
  {
   "cell_type": "markdown",
   "metadata": {},
   "source": [
    "In the previous example, the same variable **x** is used to first save a string (type **str**) and later save a list (type **list**) with a single digit. The content of **x** changes from a str to a list. Note: the **qoutes** around the string, the qoutes can be single or double. Lists are indicated by the **[]**."
   ]
  },
  {
   "cell_type": "markdown",
   "metadata": {},
   "source": [
    "## Python strings\n",
    "A word or multiple words are called **strings** in Python. Strings can be created by using different qoutes: single, double or even tripple around the words. In the next examples string assignment is shown:"
   ]
  },
  {
   "cell_type": "code",
   "execution_count": 4,
   "metadata": {},
   "outputs": [
    {
     "name": "stdout",
     "output_type": "stream",
     "text": [
      "foo\n"
     ]
    }
   ],
   "source": [
    "single_word_string = 'foo'\n",
    "print(single_word_string)"
   ]
  },
  {
   "cell_type": "code",
   "execution_count": 5,
   "metadata": {},
   "outputs": [
    {
     "name": "stdout",
     "output_type": "stream",
     "text": [
      "In single qoutes you can use \" as part of the string\n"
     ]
    }
   ],
   "source": [
    "single_qouted_string = 'In single qoutes you can use \" as part of the string'\n",
    "print(single_qouted_string)"
   ]
  },
  {
   "cell_type": "code",
   "execution_count": 6,
   "metadata": {},
   "outputs": [
    {
     "name": "stdout",
     "output_type": "stream",
     "text": [
      "In between double qoutes 'single' qoutes can be used\n"
     ]
    }
   ],
   "source": [
    "double_qouted_string = \"In between double qoutes 'single' qoutes can be used\"\n",
    "print(double_qouted_string)"
   ]
  },
  {
   "cell_type": "code",
   "execution_count": 7,
   "metadata": {},
   "outputs": [
    {
     "name": "stdout",
     "output_type": "stream",
     "text": [
      "To have a string that contains multiple lines\n",
      "you have to use \n",
      "triple double qoutes\n",
      "\n"
     ]
    }
   ],
   "source": [
    "multi_line_string = \"\"\"To have a string that contains multiple lines\n",
    "you have to use \n",
    "triple double qoutes\n",
    "\"\"\"\n",
    "print(multi_line_string)"
   ]
  },
  {
   "cell_type": "markdown",
   "metadata": {},
   "source": [
    "String can be combined using the **+** operator and this is called **string concatenatation**"
   ]
  },
  {
   "cell_type": "code",
   "execution_count": 8,
   "metadata": {},
   "outputs": [
    {
     "name": "stdout",
     "output_type": "stream",
     "text": [
      "Hello world\n"
     ]
    }
   ],
   "source": [
    "first_word = 'Hello '\n",
    "second_word = 'world'\n",
    "combined_words = first_word + second_word\n",
    "print(combined_words)"
   ]
  },
  {
   "cell_type": "markdown",
   "metadata": {},
   "source": [
    "## String slicing\n",
    "Characters in a string can be accessed using **indexing** (more on indexing in the second lecture). Every character in a string has a position starting from **0**. Using the variable name and an index we can get the character at that position. To do this we need to place the index in between brackets **\\[\\]**"
   ]
  },
  {
   "cell_type": "code",
   "execution_count": 9,
   "metadata": {},
   "outputs": [
    {
     "name": "stdout",
     "output_type": "stream",
     "text": [
      "H\n"
     ]
    }
   ],
   "source": [
    "first_letter = combined_words[0]\n",
    "print(first_letter)"
   ]
  },
  {
   "cell_type": "markdown",
   "metadata": {},
   "source": [
    "We can also specify a **range** of positions to retrieve from the string using the following bracket notation: **[start:stop:step]**. "
   ]
  },
  {
   "cell_type": "code",
   "execution_count": 10,
   "metadata": {},
   "outputs": [
    {
     "name": "stdout",
     "output_type": "stream",
     "text": [
      "Hello\n"
     ]
    }
   ],
   "source": [
    "first_word = combined_words[0:5]\n",
    "print(first_word)"
   ]
  },
  {
   "cell_type": "code",
   "execution_count": 11,
   "metadata": {},
   "outputs": [
    {
     "name": "stdout",
     "output_type": "stream",
     "text": [
      "world\n"
     ]
    }
   ],
   "source": [
    "second_word = combined_words[6:11]\n",
    "print(second_word)"
   ]
  },
  {
   "cell_type": "markdown",
   "metadata": {},
   "source": [
    "If you omit the start Python will start from the beginning and not specifying an end will let Python continue to the last position. "
   ]
  },
  {
   "cell_type": "code",
   "execution_count": 12,
   "metadata": {},
   "outputs": [
    {
     "name": "stdout",
     "output_type": "stream",
     "text": [
      "Hello\n"
     ]
    }
   ],
   "source": [
    "first_word = combined_words[:5]\n",
    "print(first_word)"
   ]
  },
  {
   "cell_type": "code",
   "execution_count": 13,
   "metadata": {},
   "outputs": [
    {
     "name": "stdout",
     "output_type": "stream",
     "text": [
      "world\n"
     ]
    }
   ],
   "source": [
    "second_word = combined_words[6:]\n",
    "print(second_word)"
   ]
  },
  {
   "cell_type": "markdown",
   "metadata": {},
   "source": [
    "Using the step in the slice has as effect that every position at the step interval will be retrieved. In the next example the start and stop are left blank which indicating we want to start at the beginnning and continue to the end."
   ]
  },
  {
   "cell_type": "code",
   "execution_count": 14,
   "metadata": {},
   "outputs": [
    {
     "name": "stdout",
     "output_type": "stream",
     "text": [
      "Hlowrd\n"
     ]
    }
   ],
   "source": [
    "every_second_character = combined_words[::2]\n",
    "print(every_second_character)"
   ]
  },
  {
   "cell_type": "markdown",
   "metadata": {},
   "source": [
    "One extra neat trick we can do with string slicing is the use of **negative indices**. When a negative index is used it means start from the end. By using a **negative step** we can reverse the string."
   ]
  },
  {
   "cell_type": "code",
   "execution_count": 15,
   "metadata": {},
   "outputs": [
    {
     "name": "stdout",
     "output_type": "stream",
     "text": [
      "dlrow olleH\n"
     ]
    }
   ],
   "source": [
    "reversed_combined_words = combined_words[::-1]\n",
    "print(reversed_combined_words)"
   ]
  },
  {
   "cell_type": "markdown",
   "metadata": {},
   "source": [
    "## String methods\n",
    "Everything in Python is an **object**. An object has content and methods that can operate on that content. A string is no exception and is also a Python object. The content of the string object is/are the word(s). To use a method of an object we have to use the **dot operator **. We can show which methods are available for any given object by using the Python buildin **dir()** method or **help()** if we want to have more information."
   ]
  },
  {
   "cell_type": "code",
   "execution_count": 16,
   "metadata": {},
   "outputs": [
    {
     "name": "stdout",
     "output_type": "stream",
     "text": [
      "['__add__', '__class__', '__contains__', '__delattr__', '__dir__', '__doc__', '__eq__', '__format__', '__ge__', '__getattribute__', '__getitem__', '__getnewargs__', '__gt__', '__hash__', '__init__', '__init_subclass__', '__iter__', '__le__', '__len__', '__lt__', '__mod__', '__mul__', '__ne__', '__new__', '__reduce__', '__reduce_ex__', '__repr__', '__rmod__', '__rmul__', '__setattr__', '__sizeof__', '__str__', '__subclasshook__', 'capitalize', 'casefold', 'center', 'count', 'encode', 'endswith', 'expandtabs', 'find', 'format', 'format_map', 'index', 'isalnum', 'isalpha', 'isdecimal', 'isdigit', 'isidentifier', 'islower', 'isnumeric', 'isprintable', 'isspace', 'istitle', 'isupper', 'join', 'ljust', 'lower', 'lstrip', 'maketrans', 'partition', 'replace', 'rfind', 'rindex', 'rjust', 'rpartition', 'rsplit', 'rstrip', 'split', 'splitlines', 'startswith', 'strip', 'swapcase', 'title', 'translate', 'upper', 'zfill']\n"
     ]
    }
   ],
   "source": [
    "DNA = \"ATGC\"\n",
    "print(dir(DNA))"
   ]
  },
  {
   "cell_type": "markdown",
   "metadata": {},
   "source": [
    "We could also use **dir()** directly on the str object itself by typing **dir(str)**. But we leave that for you to try out. To get a bit more information on how to actually use the str methods we can use the **help()** method to get information on all or just a single method. To get information on all just type **help(str)**, but for now we will focus on a single method. To get help on a single method we have to use help() and pass the method we want help on using the **dot notation(**). The method we will focus on is the **replace()** method. "
   ]
  },
  {
   "cell_type": "code",
   "execution_count": 17,
   "metadata": {},
   "outputs": [
    {
     "name": "stdout",
     "output_type": "stream",
     "text": [
      "Help on built-in function replace:\n",
      "\n",
      "replace(...) method of builtins.str instance\n",
      "    S.replace(old, new[, count]) -> str\n",
      "    \n",
      "    Return a copy of S with all occurrences of substring\n",
      "    old replaced by new.  If the optional argument count is\n",
      "    given, only the first count occurrences are replaced.\n",
      "\n"
     ]
    }
   ],
   "source": [
    "help(DNA.replace)"
   ]
  },
  {
   "cell_type": "markdown",
   "metadata": {},
   "source": [
    "Lets say we want to convert our DNA string to a RNA string (T->U). We could use the **replace()** method to accomplish this. From the help of the replace method we can see that we need to specify the old substring (T) and what it should become (U)."
   ]
  },
  {
   "cell_type": "code",
   "execution_count": 18,
   "metadata": {},
   "outputs": [
    {
     "name": "stdout",
     "output_type": "stream",
     "text": [
      "AUGC\n"
     ]
    }
   ],
   "source": [
    "print(DNA.replace(\"T\", \"U\"))"
   ]
  },
  {
   "cell_type": "markdown",
   "metadata": {},
   "source": [
    "**Note: strings are immutable, meaning after they are created we cannot change them anymore.** There are more inmutable data types, which you will learn about in lecture2."
   ]
  },
  {
   "cell_type": "code",
   "execution_count": 19,
   "metadata": {},
   "outputs": [
    {
     "name": "stdout",
     "output_type": "stream",
     "text": [
      "ATGC\n"
     ]
    }
   ],
   "source": [
    "print(DNA)"
   ]
  },
  {
   "cell_type": "markdown",
   "metadata": {},
   "source": [
    "As you can see in the above code example, when **x** is printed, it still contains the **old DNA string**. To save the replace() method operation **you have to save the output of the operation** into a variable."
   ]
  },
  {
   "cell_type": "code",
   "execution_count": 20,
   "metadata": {},
   "outputs": [
    {
     "name": "stdout",
     "output_type": "stream",
     "text": [
      "ATGC\n",
      "AUGC\n"
     ]
    }
   ],
   "source": [
    "RNA = DNA.replace(\"T\", \"U\")\n",
    "print(DNA)\n",
    "print(RNA)"
   ]
  },
  {
   "cell_type": "markdown",
   "metadata": {},
   "source": [
    "Some other usefull str methods are: **str.upper**, **str.lower** and **str.find** and **str.index**. These methods will respectively turn the string to uppercase, lowercase and the last two methods can be used to return an index of a certain substring. The difference in **find()** and **index()** is that if nothing is found, find() will **return** an **-1** and index() will **raise** a **ValueError**. Given the DNA and RNA strings from above, we will show the usage of these str methods()"
   ]
  },
  {
   "cell_type": "code",
   "execution_count": 21,
   "metadata": {},
   "outputs": [
    {
     "name": "stdout",
     "output_type": "stream",
     "text": [
      "atgc\n",
      "augc\n"
     ]
    }
   ],
   "source": [
    "print(DNA.lower())\n",
    "print(RNA.lower())"
   ]
  },
  {
   "cell_type": "code",
   "execution_count": 22,
   "metadata": {},
   "outputs": [
    {
     "name": "stdout",
     "output_type": "stream",
     "text": [
      "1\n"
     ]
    }
   ],
   "source": [
    "print(DNA.find(\"T\"))"
   ]
  },
  {
   "cell_type": "code",
   "execution_count": 23,
   "metadata": {},
   "outputs": [
    {
     "name": "stdout",
     "output_type": "stream",
     "text": [
      "1\n"
     ]
    }
   ],
   "source": [
    "print(DNA.lower().find(\"t\"))"
   ]
  },
  {
   "cell_type": "code",
   "execution_count": 24,
   "metadata": {},
   "outputs": [
    {
     "name": "stdout",
     "output_type": "stream",
     "text": [
      "2\n"
     ]
    }
   ],
   "source": [
    "print(DNA.index(\"GC\"))"
   ]
  },
  {
   "cell_type": "code",
   "execution_count": 25,
   "metadata": {},
   "outputs": [
    {
     "ename": "ValueError",
     "evalue": "substring not found",
     "output_type": "error",
     "traceback": [
      "\u001b[0;31m---------------------------------------------------------------------------\u001b[0m",
      "\u001b[0;31mValueError\u001b[0m                                Traceback (most recent call last)",
      "\u001b[0;32m<ipython-input-25-70d4b0455487>\u001b[0m in \u001b[0;36m<module>\u001b[0;34m()\u001b[0m\n\u001b[0;32m----> 1\u001b[0;31m \u001b[0mprint\u001b[0m\u001b[0;34m(\u001b[0m\u001b[0mDNA\u001b[0m\u001b[0;34m.\u001b[0m\u001b[0mindex\u001b[0m\u001b[0;34m(\u001b[0m\u001b[0;34m\"GCT\"\u001b[0m\u001b[0;34m)\u001b[0m\u001b[0;34m)\u001b[0m\u001b[0;34m\u001b[0m\u001b[0m\n\u001b[0m",
      "\u001b[0;31mValueError\u001b[0m: substring not found"
     ]
    }
   ],
   "source": [
    "print(DNA.index(\"GCT\"))"
   ]
  },
  {
   "cell_type": "markdown",
   "metadata": {},
   "source": [
    "## Control flow\n",
    "In programming we want to be able to check the content of variables and be able to make decisions based on that content. For example: if we want to change a DNA string to RNA, we need to be sure that we do not allready have a RNA string."
   ]
  },
  {
   "cell_type": "markdown",
   "metadata": {},
   "source": [
    "### if statement\n",
    "If statements can be used to decide if a variable fits a given condition and execute a piece of code when it does. All the code that should be executed needs to be **indented** with **4 spaces** (or a tab). \n",
    "\n",
    "The basic syntax of an if statement is:\n",
    "```\n",
    "if condition:\n",
    "    indented code block\n",
    "```\n",
    "\n",
    "The conditional tests that can be used are: \n",
    "- == ; equals\n",
    "- \\!= ; not equals\n",
    "- \\> ; greater than\n",
    "- \\< ; less than\n",
    "- \\>= ; greater than or equal\n",
    "- \\<= ; less than or equal"
   ]
  },
  {
   "cell_type": "code",
   "execution_count": 27,
   "metadata": {},
   "outputs": [
    {
     "name": "stdout",
     "output_type": "stream",
     "text": [
      "Number is 5\n",
      "After the if\n"
     ]
    }
   ],
   "source": [
    "number = 5\n",
    "\n",
    "if number == 5:\n",
    "    print(\"Number is 5\")\n",
    "    \n",
    "print(\"After the if\")"
   ]
  },
  {
   "cell_type": "markdown",
   "metadata": {},
   "source": [
    "In the above code we first created a variable named **number** and we **assigned** (using the assignment operator) the **value 5** to it. <br>\n",
    "Next, we started the **if** statement and added our **condition** that **evaluates** to **true** if our number **is equal to 5**. <br>\n",
    "Finally, the block that should be **executed** (the print statement) when the condition is true is **indendent** with **4 spaces**. <br>\n",
    "The code continues again starting from the margin.<br><br>\n"
   ]
  },
  {
   "cell_type": "code",
   "execution_count": 28,
   "metadata": {},
   "outputs": [
    {
     "name": "stdout",
     "output_type": "stream",
     "text": [
      "After the if\n"
     ]
    }
   ],
   "source": [
    "number = 6\n",
    "\n",
    "if number == 5:\n",
    "    print(\"Number is 5\")\n",
    "    \n",
    "print(\"After the if\")"
   ]
  },
  {
   "cell_type": "markdown",
   "metadata": {},
   "source": [
    "In the above code block we changed the number to 6. If we run this piece of code the **condition** in the if statement **tests to false 5**, because 6 is not equal to 5. The code block indented does not get executed and the code continues to run until the line starting in the margin."
   ]
  },
  {
   "cell_type": "code",
   "execution_count": 29,
   "metadata": {},
   "outputs": [
    {
     "ename": "IndentationError",
     "evalue": "expected an indented block (<ipython-input-29-8782ff162be1>, line 2)",
     "output_type": "error",
     "traceback": [
      "\u001b[0;36m  File \u001b[0;32m\"<ipython-input-29-8782ff162be1>\"\u001b[0;36m, line \u001b[0;32m2\u001b[0m\n\u001b[0;31m    print(\"Number is 5\")\u001b[0m\n\u001b[0m        ^\u001b[0m\n\u001b[0;31mIndentationError\u001b[0m\u001b[0;31m:\u001b[0m expected an indented block\n"
     ]
    }
   ],
   "source": [
    "if number == 5:\n",
    "print(\"Number is 5\")"
   ]
  },
  {
   "cell_type": "markdown",
   "metadata": {},
   "source": [
    "**Note:** the **:** after the if statement! **code after a semicolon should be indented**, forgetting the indentation will raise an **IndentationError**."
   ]
  },
  {
   "cell_type": "markdown",
   "metadata": {},
   "source": [
    "### if..else..\n",
    "The if statement has an additional **else** that can be used to **execute** a code block when the if condition **evaluates to false**.\n",
    "\n",
    "The if..else.. syntax now looks like:\n",
    "```\n",
    "if condition:\n",
    "    indented code block1\n",
    "else:\n",
    "    indented code block2\n",
    "```\n"
   ]
  },
  {
   "cell_type": "code",
   "execution_count": 30,
   "metadata": {},
   "outputs": [
    {
     "name": "stdout",
     "output_type": "stream",
     "text": [
      "Not a number that is less than 5\n"
     ]
    }
   ],
   "source": [
    "if number < 5:\n",
    "    print(\"Number is more than 5\")\n",
    "else:\n",
    "    print(\"Not a number that is less than 5\")"
   ]
  },
  {
   "cell_type": "markdown",
   "metadata": {},
   "source": [
    "### if..elif..else..\n",
    "To test multiple conditions we can use the if..**elif**..else.. statement. If we now add the elif statement we come to the following structure:\n",
    "```\n",
    "if condition:\n",
    "    indented code block1\n",
    "elif condition1:\n",
    "    indented code block2\n",
    "else:\n",
    "    indented code block3\n",
    "```\n",
    "\n",
    "There can be multiple **elif** statements following an if. In the next example we test if a grade for an exam fits a condition, when the condition evaluates to true the code block following the condition is executed."
   ]
  },
  {
   "cell_type": "code",
   "execution_count": 31,
   "metadata": {},
   "outputs": [
    {
     "name": "stdout",
     "output_type": "stream",
     "text": [
      "Top job!\n"
     ]
    }
   ],
   "source": [
    "grade = 8\n",
    "if grade < 5.5:\n",
    "    print(\"Bummer, unsufficient!\")\n",
    "elif grade >= 5.5 and grade <= 6:\n",
    "    print(\"Needs a bit of work\")\n",
    "elif grade > 6 and grade < 8:\n",
    "    print(\"Getting there\")\n",
    "else:\n",
    "    print(\"Top job!\")"
   ]
  },
  {
   "cell_type": "markdown",
   "metadata": {},
   "source": [
    "Note in the above example code the use of the **and** logical operator, when used the condition on **both ends** of the **and should evaluate to true**. <br>\n",
    "There is also the **or** logical operator, than **one** of the **sides** should **evaluate to true**."
   ]
  },
  {
   "cell_type": "markdown",
   "metadata": {},
   "source": [
    "Finally, now that we know that we can use indentation to indicate a block of code, we can use this indentation to have nested if statements. <br>\n",
    "Each if statement can have it's own if..elif..else.. structure."
   ]
  },
  {
   "cell_type": "code",
   "execution_count": 32,
   "metadata": {},
   "outputs": [
    {
     "name": "stdout",
     "output_type": "stream",
     "text": [
      "Positive number\n"
     ]
    }
   ],
   "source": [
    "number = 5\n",
    "if number >= 0:\n",
    "    if number == 0:\n",
    "        print(\"Zero\")\n",
    "    else:\n",
    "        print(\"Positive number\")\n",
    "else:\n",
    "    print(\"Negative number\")"
   ]
  },
  {
   "cell_type": "markdown",
   "metadata": {},
   "source": [
    "## for loop\n",
    "Executing code many times can be done naivelly by just typing the code (or copy pasting) many times. Luckily, Python comes with buildin functionallity that will allow us to **repeat code** many times. Even if we do not know on beforehand how many times a piece of code should be executed. Looping is usually caried out on strings, (lists, tuples and dictionaries can also be looped over, this is content of lecture2) but **any object that is iterable can be looped over**.\n",
    "\n",
    "The basic syntax of a for loop is as following:\n",
    "```\n",
    "for x in iterable:\n",
    "    code block to be executed on item\n",
    "```\n",
    "\n",
    "**x** is a placeholder that holds just **one** item of the iterable at the time. And every time the loop is repeated the **next item is placed in x**. We can give x any name we want, and it helps to name it accordingly to the type of value it will contain.\n",
    "\n",
    "In the next example we use the for loop to loop over a DNA string, every time taking one character and placing this in the letter placeholder. In the indented block we print the content of the placeholder."
   ]
  },
  {
   "cell_type": "code",
   "execution_count": 33,
   "metadata": {},
   "outputs": [
    {
     "name": "stdout",
     "output_type": "stream",
     "text": [
      "A\n",
      "T\n",
      "G\n",
      "C\n"
     ]
    }
   ],
   "source": [
    "DNA = 'ATGC'\n",
    "for letter in DNA:\n",
    "    print(letter)"
   ]
  },
  {
   "cell_type": "markdown",
   "metadata": {},
   "source": [
    "Another example using a different iterable type (lists). Note that we used a different name for the placeholder. The result is exactly the same as in the previous example."
   ]
  },
  {
   "cell_type": "code",
   "execution_count": 34,
   "metadata": {},
   "outputs": [
    {
     "name": "stdout",
     "output_type": "stream",
     "text": [
      "A\n",
      "T\n",
      "G\n",
      "C\n"
     ]
    }
   ],
   "source": [
    "my_dna_list = ['A', 'T', 'G', 'C']\n",
    "for character in my_dna_list:\n",
    "    print(character)"
   ]
  },
  {
   "cell_type": "markdown",
   "metadata": {},
   "source": [
    "## Exercises:\n",
    "Time to put all our new coding skills to the test!\n",
    "\n",
    "1. Create a variable my_dna with the sequence atagcaggagtagccaggag. Print it to the screen.\n",
    "2. Create a variable my_dna_upper and assign it to the sequence of my_dna in upper case. Print it to the screen.\n",
    "3. Create a variable my_dna_reverse and assign it to the reversed sequence of my_dna_upper. Print it to the screen.\n",
    "4. Create a variable my_rna with the sequence my_dna converted to RNA. Convert to upper case. Print it to the screen.\n",
    "5. Create a script that will check if a given sequence is DNA and not RNA (we assume that no other characters then a, t, c, g, or u are present for now). Check if the sequence is DNA, print that the sequence is a DNA sequence and print the sequence. If it is not DNA, print that the sequence was RNA, convert the RNA sequence to DNA and print the original RNA sequence as well as the DNA sequence. Test your program for both a DNA as well as a RNA sequence. "
   ]
  }
 ],
 "metadata": {
  "kernelspec": {
   "display_name": "Python 3",
   "language": "python",
   "name": "python3"
  },
  "language_info": {
   "codemirror_mode": {
    "name": "ipython",
    "version": 3
   },
   "file_extension": ".py",
   "mimetype": "text/x-python",
   "name": "python",
   "nbconvert_exporter": "python",
   "pygments_lexer": "ipython3",
   "version": "3.6.4"
  }
 },
 "nbformat": 4,
 "nbformat_minor": 1
}
