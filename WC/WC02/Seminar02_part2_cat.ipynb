{
 "cells": [
  {
   "cell_type": "markdown",
   "metadata": {},
   "source": [
    "# Seminar 02: Reading files like CAT\n",
    "\n",
    "\n"
   ]
  },
  {
   "cell_type": "markdown",
   "metadata": {},
   "source": [
    "## Introduction"
   ]
  },
  {
   "cell_type": "markdown",
   "metadata": {},
   "source": [
    "Author: Jurre Hageman"
   ]
  },
  {
   "cell_type": "markdown",
   "metadata": {},
   "source": [
    "For this lesson, we will write a small program that implements the command-line program \"cat\".\n",
    "cat is a frequently used command on Unix-like operating systems. It can display text files, combine copies of different text files and create new text files.\n",
    "\n",
    "We will write a small Python program that mimics the text display feature of the cat command.\n",
    "This excersise will give you a general overview of the informatics 1 course.\n",
    "Note that we do not expect that at this point you will be able to write all the code yourself.\n",
    "It will show you the end-level of what you should be able to code at the end of the course.\n",
    "\n",
    "So no worries (yet). We will guide you through this lesson!"
   ]
  },
  {
   "cell_type": "markdown",
   "metadata": {},
   "source": [
    "Let's first think of what the program should do:\n",
    "- it should open a file\n",
    "- it should loop through every line\n",
    "- it should print the content of the line to the screen\n",
    "- it should close the file"
   ]
  },
  {
   "cell_type": "markdown",
   "metadata": {},
   "source": [
    "Before starting to write the cat program, let's first write a message to the screen.\n",
    "In python you can write a message to the screen using the print function.\n",
    "The print function needs something to print. It needs an argument.\n",
    "We can \"feed\" the print function with a message like \"Hello\".\n",
    "Note that we use quotation marks surrounding Hello so that Python knows that this is a text string. \n",
    "We call this a string literal.\n",
    "\n",
    "Open IDLE3 and repeat the code below:\n"
   ]
  },
  {
   "cell_type": "code",
   "execution_count": 1,
   "metadata": {},
   "outputs": [
    {
     "name": "stdout",
     "output_type": "stream",
     "text": [
      "Hello\n"
     ]
    }
   ],
   "source": [
    "print(\"Hello\")"
   ]
  },
  {
   "cell_type": "markdown",
   "metadata": {},
   "source": [
    "We can also store content as a variable:"
   ]
  },
  {
   "cell_type": "code",
   "execution_count": 2,
   "metadata": {},
   "outputs": [
    {
     "name": "stdout",
     "output_type": "stream",
     "text": [
      "hello\n"
     ]
    }
   ],
   "source": [
    "mssg = \"hello\"\n",
    "print(mssg)"
   ]
  },
  {
   "cell_type": "markdown",
   "metadata": {},
   "source": [
    "The variable mssg is now assigned to the string literal \"hello\".\n",
    "We can also create another variable name that stores my name."
   ]
  },
  {
   "cell_type": "code",
   "execution_count": 3,
   "metadata": {},
   "outputs": [
    {
     "name": "stdout",
     "output_type": "stream",
     "text": [
      "Jurre\n"
     ]
    }
   ],
   "source": [
    "name = \"Jurre\"\n",
    "print(name)"
   ]
  },
  {
   "cell_type": "markdown",
   "metadata": {},
   "source": [
    "We can combine them to print the message and the name:"
   ]
  },
  {
   "cell_type": "code",
   "execution_count": 4,
   "metadata": {},
   "outputs": [
    {
     "name": "stdout",
     "output_type": "stream",
     "text": [
      "hello Jurre\n"
     ]
    }
   ],
   "source": [
    "print(mssg, name)"
   ]
  },
  {
   "cell_type": "markdown",
   "metadata": {},
   "source": [
    "## Excercise I. Print message to the screen"
   ]
  },
  {
   "cell_type": "markdown",
   "metadata": {},
   "source": [
    "Create two variables that store your first name and last name. Print them using the print function after the message \"Hello\". The output should be like: Hello Jan Janssen.\n",
    "Use IDLE3 to write this script."
   ]
  },
  {
   "cell_type": "code",
   "execution_count": 5,
   "metadata": {
    "collapsed": true
   },
   "outputs": [],
   "source": [
    "# generate two variables below: firstname and lastname. Print your name.\n",
    "# firstname =\n",
    "# lastname\n",
    "# print"
   ]
  },
  {
   "cell_type": "markdown",
   "metadata": {},
   "source": [
    "Nice work! Next we will write some code to print multiple items using a loop.\n",
    "There are different types of loops. We will explore a for loop in the next section.\n",
    "The for loop in Python is used to avoid repetition of code.\n",
    "Suppose we have a collection of different items stored. We can store them in a list:"
   ]
  },
  {
   "cell_type": "code",
   "execution_count": 6,
   "metadata": {},
   "outputs": [
    {
     "name": "stdout",
     "output_type": "stream",
     "text": [
      "['This', 'is', 'a', 'list', 'with', 'each', 'item', 'being', 'a', 'string']\n"
     ]
    }
   ],
   "source": [
    "items = [\"This\", \"is\", \"a\", \"list\", \"with\", \"each\", \"item\", \"being\", \"a\", \"string\"]\n",
    "print(items)"
   ]
  },
  {
   "cell_type": "markdown",
   "metadata": {},
   "source": [
    "A text file is also a collection of items. It is a collection of lines containing characters.\n",
    "To loop through the collection we can use a for loop. Each item will be printed:"
   ]
  },
  {
   "cell_type": "code",
   "execution_count": 7,
   "metadata": {},
   "outputs": [
    {
     "name": "stdout",
     "output_type": "stream",
     "text": [
      "This\n",
      "is\n",
      "a\n",
      "list\n",
      "with\n",
      "each\n",
      "item\n",
      "being\n",
      "a\n",
      "string\n"
     ]
    }
   ],
   "source": [
    "items = [\"This\", \"is\", \"a\", \"list\", \"with\", \"each\", \"item\", \"being\", \"a\", \"string\"]\n",
    "for item in items:\n",
    "    print(item)"
   ]
  },
  {
   "cell_type": "markdown",
   "metadata": {},
   "source": [
    "Item is now a placeholder that is overwritten for each consecutive loop. The first loop item refers to \"This\", the second loop to \"is\" etc.\n",
    "Note that item (singular) differs from items (plural). Items refers to the complete list while item is the placeholder in the for loop refering to each item of the list. In the next lessons, you will learn more about lists and for loops. For now this will be enough.\n",
    "\n",
    "The next thing we would like to do is to open a file.\n",
    "Files can be opened in Python using the open command.\n",
    "We have a text file in the directory that is named \"input.txt\". Make sure that you download this file in your working directory (the same directory in which you store your python file). \n",
    "Using the following code we can generate a file object with the open file:"
   ]
  },
  {
   "cell_type": "code",
   "execution_count": 1,
   "metadata": {},
   "outputs": [
    {
     "name": "stdout",
     "output_type": "stream",
     "text": [
      "<_io.TextIOWrapper name='input.txt' mode='r' encoding='UTF-8'>\n"
     ]
    }
   ],
   "source": [
    "file_name = \"input.txt\"\n",
    "file_object = open(file_name)\n",
    "print(file_object)"
   ]
  },
  {
   "cell_type": "markdown",
   "metadata": {},
   "source": [
    "Printing the file object gives a bit of intimidating result. Do not let it intimidate you. It's just a file object in read mode with a certain encoding that can display the content.\n",
    "To display the content we can loop through the file object in the following manner:"
   ]
  },
  {
   "cell_type": "code",
   "execution_count": 13,
   "metadata": {},
   "outputs": [
    {
     "name": "stdout",
     "output_type": "stream",
     "text": [
      "This is a text files.\n",
      "\n",
      "It has multiple lines...\n",
      "\n",
      "but not a very interesting content.\n",
      "\n",
      "End of message.\n",
      "\n"
     ]
    }
   ],
   "source": [
    "file_name = \"input.txt\"\n",
    "my_file = open(file_name)\n",
    "for line in my_file:\n",
    "    print(line)\n",
    "my_file.close()"
   ]
  },
  {
   "cell_type": "markdown",
   "metadata": {},
   "source": [
    "The keyword \"line\" is now a placeholder for every line of the file. The first loop it refers to the first line, the second loop to the second.\n",
    "Note that a line break is introduced between each line. This is caused by the print function which normally introduces a line break after each printing event. This can be avoided by using the end='' statement:"
   ]
  },
  {
   "cell_type": "code",
   "execution_count": 10,
   "metadata": {},
   "outputs": [
    {
     "name": "stdout",
     "output_type": "stream",
     "text": [
      "Hello\n",
      "World\n",
      "HelloWorld"
     ]
    }
   ],
   "source": [
    "mssg1 = \"Hello\"\n",
    "mssg2 = \"World\"\n",
    "print(mssg1)\n",
    "print(mssg2)\n",
    "print(mssg1, end='')\n",
    "print(mssg2, end='')"
   ]
  },
  {
   "cell_type": "markdown",
   "metadata": {},
   "source": [
    "## Excercise II. Loop through a file"
   ]
  },
  {
   "cell_type": "markdown",
   "metadata": {},
   "source": [
    "Now open the file <a href=\"L2_sources/excercise2.txt\">exercise2.txt</a> in assign it to a variable.\n",
    "Use a for loop to loop throug each line. Avoid linebreaks between the lines using the end='' argument in the print function. Use IDLE3 to write the script."
   ]
  },
  {
   "cell_type": "code",
   "execution_count": 11,
   "metadata": {
    "collapsed": true
   },
   "outputs": [],
   "source": [
    "#open a file object of the excersise2.txt file\n",
    "#loop through each line here\n",
    "#print the content of each line and avoid line breaks\n",
    "#close the file"
   ]
  },
  {
   "cell_type": "markdown",
   "metadata": {},
   "source": [
    "Well done!\n",
    "So far we have opened a file and displayed its content.\n",
    "You may also want to write something to a file. \n",
    "To do so, first we have to open a new output file:"
   ]
  },
  {
   "cell_type": "code",
   "execution_count": 27,
   "metadata": {},
   "outputs": [
    {
     "name": "stdout",
     "output_type": "stream",
     "text": [
      "<_io.TextIOWrapper name='output.txt' mode='w' encoding='UTF-8'>\n"
     ]
    }
   ],
   "source": [
    "file_name = \"output.txt\"\n",
    "output_file_obj = open(file_name, \"w\")\n",
    "print(output_file_obj)\n",
    "output_file_obj.close()"
   ]
  },
  {
   "cell_type": "markdown",
   "metadata": {},
   "source": [
    "We have generated a file object and assigned it to the variable output_file.\n",
    "The \"w\" argument informs the Python interpreter that the file object should be opened in write mode.\n",
    "The default is read mode (\"r\") which does not need to be specified.\n",
    "To write something to the file we can use the print function with the file = argument:"
   ]
  },
  {
   "cell_type": "code",
   "execution_count": 28,
   "metadata": {},
   "outputs": [],
   "source": [
    "file_name = \"output.txt\"\n",
    "output_file_obj = open(file_name, \"w\")\n",
    "print(\"This is written to the file\", file=output_file_obj)\n",
    "print(\"End of message\", file=output_file_obj)\n",
    "output_file_obj.close()"
   ]
  },
  {
   "cell_type": "markdown",
   "metadata": {},
   "source": [
    "Now we have a file in the same directory as the Jupyter file that contains the text file.\n",
    "We can open it to check if the contant has been written to the file:"
   ]
  },
  {
   "cell_type": "code",
   "execution_count": 29,
   "metadata": {},
   "outputs": [
    {
     "name": "stdout",
     "output_type": "stream",
     "text": [
      "This is written to the file\n",
      "End of message\n"
     ]
    }
   ],
   "source": [
    "file_name = \"output.txt\"\n",
    "my_file = open(file_name)\n",
    "for line in my_file:\n",
    "    print(line, end='')\n",
    "my_file.close()"
   ]
  },
  {
   "cell_type": "markdown",
   "metadata": {},
   "source": [
    "Now we can read and write text files we can move one step further. \n",
    "We will open a source file, open an output file in write modus and for each line add a line number.\n",
    "If we take the previous example were we used a list of strings, we can add line numbers in the following way:"
   ]
  },
  {
   "cell_type": "code",
   "execution_count": 30,
   "metadata": {},
   "outputs": [
    {
     "name": "stdout",
     "output_type": "stream",
     "text": [
      "1 This\n",
      "2 is\n",
      "3 a\n",
      "4 list\n",
      "5 with\n",
      "6 each\n",
      "7 item\n",
      "8 being\n",
      "9 a\n",
      "10 string\n"
     ]
    }
   ],
   "source": [
    "items = [\"This\", \"is\", \"a\", \"list\", \"with\", \"each\", \"item\", \"being\", \"a\", \"string\"]\n",
    "line_number = 1\n",
    "for item in items:\n",
    "    print(line_number, item)\n",
    "    line_number = line_number + 1"
   ]
  },
  {
   "cell_type": "markdown",
   "metadata": {},
   "source": [
    "The line_number variable is set before the loop.\n",
    "Note that this variable is overwritten at each consecutive loop and incremented by 1.\n",
    "This is why it increments each loop."
   ]
  },
  {
   "cell_type": "markdown",
   "metadata": {},
   "source": [
    "## Excercise III. Read a fasta file and write content to a new file"
   ]
  },
  {
   "cell_type": "markdown",
   "metadata": {
    "collapsed": true
   },
   "source": [
    "Now we come to the final excersise:\n",
    "The file: <a href=\"L2_sources/dna_sequence.txt\">dna_sequence.txt</a> is a FASTA file. The FASTA format is a text-based format for representing nucleotide sequences or peptide sequences, in which nucleotides or amino acids are represented using single-letter codes. \n",
    "This is an example: <br>\n",
    "/>My_dna_sequence <br>\n",
    "atcaggatggggatggagagaggaccaaccac <br>\n",
    "acagagtagagagagaggagagagacaagata <br>\n",
    "tatatttttatacccaggagagacagatagag <br>\n",
    "\n",
    "To open the file one could use the following code:"
   ]
  },
  {
   "cell_type": "code",
   "execution_count": 31,
   "metadata": {},
   "outputs": [],
   "source": [
    "file_name = \"dna_sequence.txt\"\n",
    "open_file = open(file_name)"
   ]
  },
  {
   "cell_type": "markdown",
   "metadata": {},
   "source": [
    "We can check if the file object is created:"
   ]
  },
  {
   "cell_type": "code",
   "execution_count": 32,
   "metadata": {},
   "outputs": [
    {
     "name": "stdout",
     "output_type": "stream",
     "text": [
      "<_io.TextIOWrapper name='dna_sequence.txt' mode='r' encoding='UTF-8'>\n"
     ]
    }
   ],
   "source": [
    "print(open_file)"
   ]
  },
  {
   "cell_type": "markdown",
   "metadata": {},
   "source": [
    "Use IDLE3 to write a program that:\n",
    "- reads the content of the file\n",
    "- writes the content of the file with line numbers before each line."
   ]
  },
  {
   "cell_type": "markdown",
   "metadata": {},
   "source": [
    "Well done!\n",
    "You did a great job. Remember that this introduction lesson will give you a global overview of informatics 1.\n",
    "At this point, we do not expect you to be able to write this code yet. It shows you the end-level of informatics 1!"
   ]
  },
  {
   "cell_type": "markdown",
   "metadata": {},
   "source": [
    "## Solutions"
   ]
  },
  {
   "cell_type": "markdown",
   "metadata": {},
   "source": [
    "Solutions for the excercises are given  below. Programming is like playing the piano: excercize, excercize, excercize. You learn most from typing each single word yourself. If you have no clue what to do you can have a look, but only after your first and second try!\n",
    "\n",
    "<p><a href=\"L2_solutions/excercise01.py\">excercise01.py</a></p>\n",
    "<p><a href=\"L2_solutions/excercise02.py\">excercise02.py</a></p>\n",
    "<p><a href=\"L2_solutions/excercise03.py\">excercise03.py</a></p>\n"
   ]
  }
 ],
 "metadata": {
  "kernelspec": {
   "display_name": "Python 3",
   "language": "python",
   "name": "python3"
  },
  "language_info": {
   "codemirror_mode": {
    "name": "ipython",
    "version": 3
   },
   "file_extension": ".py",
   "mimetype": "text/x-python",
   "name": "python",
   "nbconvert_exporter": "python",
   "pygments_lexer": "ipython3",
   "version": "3.6.4"
  }
 },
 "nbformat": 4,
 "nbformat_minor": 2
}
