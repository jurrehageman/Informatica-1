{
 "cells": [
  {
   "cell_type": "markdown",
   "metadata": {},
   "source": [
    "# Seminar 1: The Turtle module"
   ]
  },
  {
   "cell_type": "markdown",
   "metadata": {},
   "source": [
    "## 0.\tStart up idle3"
   ]
  },
  {
   "cell_type": "markdown",
   "metadata": {},
   "source": [
    "Open a terminal and enter the command ‘idle3’ and press return"
   ]
  },
  {
   "cell_type": "markdown",
   "metadata": {},
   "source": [
    "## 1.\tImport the turtle library"
   ]
  },
  {
   "cell_type": "markdown",
   "metadata": {},
   "source": [
    "Start a new file and enter the following line:"
   ]
  },
  {
   "cell_type": "code",
   "execution_count": null,
   "metadata": {},
   "outputs": [],
   "source": [
    "import turtle"
   ]
  },
  {
   "cell_type": "markdown",
   "metadata": {},
   "source": [
    "Save the file as ‘inf1-wc1-[yourname].py’. This is your program for today. Every line that is not code (like answers to questions) should begin with a hash (#). Also, code that should not be active shall be started with a hash.\n",
    "Note: do NOT name your file turtle.py as this will cause a name clash with the turtle module!"
   ]
  },
  {
   "cell_type": "markdown",
   "metadata": {},
   "source": [
    "## 2.\tMake a turtle"
   ]
  },
  {
   "cell_type": "markdown",
   "metadata": {},
   "source": [
    "Add the following line to your program:"
   ]
  },
  {
   "cell_type": "code",
   "execution_count": null,
   "metadata": {},
   "outputs": [],
   "source": [
    "don = turtle.Turtle()"
   ]
  },
  {
   "cell_type": "markdown",
   "metadata": {},
   "source": [
    "Save the program and run it. From this point on, at the end of each step run the program.\n",
    "\n",
    "Assignment: Write a comment in the program explaining what happens in that line of code. Write answers to questions as comments in the program."
   ]
  },
  {
   "cell_type": "markdown",
   "metadata": {},
   "source": [
    "## 3.\tDraw a line: forward and turn"
   ]
  },
  {
   "cell_type": "markdown",
   "metadata": {},
   "source": [
    "To make your turtle don go forward 100 pixels, call his forward function with the value 100. To make him turn left 72 degrees (one fifth of a circle), call his left function with the value 72:"
   ]
  },
  {
   "cell_type": "code",
   "execution_count": null,
   "metadata": {},
   "outputs": [],
   "source": [
    "don.forward(100)\n",
    "don.left(72)"
   ]
  },
  {
   "cell_type": "markdown",
   "metadata": {},
   "source": [
    "## 4.\tDraw a pentagon"
   ]
  },
  {
   "cell_type": "markdown",
   "metadata": {},
   "source": [
    "Just draw a pentagon. You already started.\n",
    "\n",
    "### Questions:\n",
    "a.\tHow many lines of code do you need for drawing a pentagon? <br>\n",
    "b.\tHow many lines of code do you need for drawing an octagon? <br>\n",
    "c.\tHow many lines of code do you need to draw a circle? <br>"
   ]
  },
  {
   "cell_type": "markdown",
   "metadata": {},
   "source": [
    "## 5.\tAvoid repeating yourself (tell the computer to do it for you)"
   ]
  },
  {
   "cell_type": "markdown",
   "metadata": {},
   "source": [
    "A pentagon can be drawn efficiently using a for-loop. Replace the lines you have for drawing the pentagon with the following code (mind the indentation):"
   ]
  },
  {
   "cell_type": "code",
   "execution_count": null,
   "metadata": {},
   "outputs": [],
   "source": [
    "for step in range(5):\n",
    "    don.forward(100)\n",
    "    don.left(72)"
   ]
  },
  {
   "cell_type": "markdown",
   "metadata": {},
   "source": [
    "### Questions:"
   ]
  },
  {
   "cell_type": "markdown",
   "metadata": {},
   "source": [
    "a.\tHow many lines of code do you now need for an octagon? <br>\n",
    "b.\tHow many lines do you now need for a circle? <br>\n",
    "c.\tWhat does range(5) do? <br>\n",
    "d.\tHow does the for-loop work? <br>"
   ]
  },
  {
   "cell_type": "markdown",
   "metadata": {},
   "source": [
    "## 6.\tDraw a flower of hexagons"
   ]
  },
  {
   "cell_type": "markdown",
   "metadata": {},
   "source": [
    "For each shape in a range of 90, draw a hexagon and turn left 4 degrees.\n",
    "<br>\n",
    "### Questions:\n",
    "a.\tHow many lines of code do you need? <br>\n",
    "b.\tHow many levels of indentation do you need? <br>\n",
    "c.\tHow does the double for-loop work? <br>\n"
   ]
  },
  {
   "cell_type": "markdown",
   "metadata": {},
   "source": [
    "## 7.\tMake a function for drawing a polygon"
   ]
  },
  {
   "cell_type": "markdown",
   "metadata": {},
   "source": [
    "Make the double for-loop inactive by adding hashes (#) in front of each line. <br>\n",
    "Now write the following code to do the same flower using a function:\n"
   ]
  },
  {
   "cell_type": "code",
   "execution_count": null,
   "metadata": {},
   "outputs": [],
   "source": [
    "def polygon(sides):\n",
    "    for step in range(sides):\n",
    "        don.forward(100)\n",
    "        don.left(360 / sides)\n",
    "\n",
    "for shape in range(90):\n",
    "    polygon(6)\n",
    "    don.left(4)"
   ]
  },
  {
   "cell_type": "markdown",
   "metadata": {},
   "source": [
    "A function defined, using the keyword def. You give it a name and indicate the parameters as names within the parentheses. Here, the only parameter (for now) is sides. The lines following the line starting with def form the body of the function: the lines of code that are executed if the function is called.\n",
    "<br>\n",
    "### Questions:\n",
    "a.\tHow does this code work to give the same result as before?<br>\n",
    "b.\tWhat happens when the function is called as polygon(6)?<br>\n",
    "c.\tWhy/when is a function useful?<br>\n",
    "d.\tWhat kind of data is sides and why (whole number, decimal number, text, or something else)?<br>\n",
    "e.\tHow can you draw a flower of large squares and a flower of small hexagons?<br>\n"
   ]
  },
  {
   "cell_type": "markdown",
   "metadata": {},
   "source": [
    "## 8.\tImprove the function"
   ]
  },
  {
   "cell_type": "markdown",
   "metadata": {},
   "source": [
    "The function is now restricted to a size of 100 and it is restricted to a turtle named don. Change the function to:"
   ]
  },
  {
   "cell_type": "code",
   "execution_count": null,
   "metadata": {},
   "outputs": [],
   "source": [
    "def polygon(turt, sides, size=100):\n",
    "    for step in range(sides):\n",
    "        turt.forward(size)\n",
    "        turt.left(360 / sides)"
   ]
  },
  {
   "cell_type": "markdown",
   "metadata": {},
   "source": [
    "Now update the call to the polygon function in the flower-drawing for-loop, so that it works again.<br>\n",
    "<br>\n",
    "NOTE: the parameter names can be chosen at will, but you should avoid confusion. The name ‘turtle’ refers to the library, so here the shorthand ‘turt’ is used instead.\n",
    "<br>\n",
    "### Questions:\n",
    "a.\tWhat happens if you call the function with a turtle (e.g. don), the number 10, and the number 50, as: polygon(don, 10, 50)?<br>\n",
    "b.\tWhat happens if you call the function with a turtle, and the number 13, but without a value for the size, as: polygon(don, 13)?<br>\n",
    "c.\tWhat happens if you call the function with only a turtle, as: polygon(don)?<br>\n",
    "d.\tWhat happens if you call the function with a turtle, the number 1, the number 2 and the number 3, as: polygon(don, 1, 2, 3)?<br>\n",
    "e.\tWhat happens if you call the function with the text ‘don’, instead of the turtle don, as: polygon(‘don’, 5, 50)?<br>\n",
    "\n"
   ]
  },
  {
   "cell_type": "markdown",
   "metadata": {},
   "source": [
    "## 9.\tTry this"
   ]
  },
  {
   "cell_type": "code",
   "execution_count": null,
   "metadata": {},
   "outputs": [],
   "source": [
    "for size in range(90):\n",
    "    polygon(don, 7, size)\n",
    "    don.left(4)"
   ]
  },
  {
   "cell_type": "markdown",
   "metadata": {},
   "source": [
    "### Questions:\n",
    "a.\tWhat does this do? <br>\n",
    "b.\tHow does this work? <br>\n"
   ]
  },
  {
   "cell_type": "markdown",
   "metadata": {},
   "source": [
    "## 10. Try this "
   ]
  },
  {
   "cell_type": "code",
   "execution_count": null,
   "metadata": {},
   "outputs": [],
   "source": [
    "for sides in range(3, 9):\n",
    "    polygon(don, sides)\n",
    "    don.left(60)"
   ]
  },
  {
   "cell_type": "markdown",
   "metadata": {},
   "source": [
    "### Questions:\n",
    "a.\tWhat does this do? <br>\n",
    "b.\tHow does this work? <br>\n",
    "c.\tWhat does range(3, 9) do? <br>\n"
   ]
  },
  {
   "cell_type": "markdown",
   "metadata": {},
   "source": [
    "## 11. Try this"
   ]
  },
  {
   "cell_type": "code",
   "execution_count": null,
   "metadata": {},
   "outputs": [],
   "source": [
    "for sides in range(3, 12, 2):\n",
    "    polygon(don, sides)\n",
    "    don.left(72)"
   ]
  },
  {
   "cell_type": "markdown",
   "metadata": {},
   "source": [
    "### Questions:\n",
    "a.\tWhat does this do? <br>\n",
    "b.\tWhat does range(3, 12, 2) do? (You can type help(range) in the IDLE console to read more) <br>\n"
   ]
  },
  {
   "cell_type": "markdown",
   "metadata": {},
   "source": [
    "## 12. Alternating colors"
   ]
  },
  {
   "cell_type": "code",
   "execution_count": null,
   "metadata": {},
   "outputs": [],
   "source": [
    "for step in range(90):\n",
    "    if (step % 2) == 1:\n",
    "        don.color('red')\n",
    "    else:\n",
    "        don.color('blue')\n",
    "    polygon(don, 5)\n",
    "    don.left(360 / 90)"
   ]
  },
  {
   "cell_type": "markdown",
   "metadata": {},
   "source": [
    "### Questions:\n",
    "a.\tWhat does this do? <br>\n",
    "b.\tHow does this work? <br>\n",
    "c.\tWhat sort of value is “red” (see question 7d)? <br>\n"
   ]
  },
  {
   "cell_type": "markdown",
   "metadata": {},
   "source": [
    "## 13. More alternating colors"
   ]
  },
  {
   "cell_type": "code",
   "execution_count": null,
   "metadata": {},
   "outputs": [],
   "source": [
    "for step in range(90):\n",
    "    if (step % 3) == 1:\n",
    "        don.color('red')\n",
    "    elif (step % 3) == 2:\n",
    "        don.color('yellow')\n",
    "    else:\n",
    "        don.color('blue')\n",
    "    polygon(don, 5)\n",
    "    don.left(360 / 90)"
   ]
  },
  {
   "cell_type": "markdown",
   "metadata": {},
   "source": [
    "### Questions:\n",
    "a.\tWhat does the % operator do? <br>\n",
    "b.\tHow does the if/elif/else work?\n"
   ]
  },
  {
   "cell_type": "markdown",
   "metadata": {},
   "source": [
    "## 14. More alternating colors"
   ]
  },
  {
   "cell_type": "markdown",
   "metadata": {},
   "source": [
    "The colors are set by name, given as a piece of text. This is different from names of values and functions, which are stored in memory (like turtle, don, and polygon). The latter are written without quotes, while pieces of text are written with quotes. \n",
    "\n",
    "Now we’ll make a flower of shapes with many alternating colours in a rainbow scheme. For that we first define the list of color names:\n"
   ]
  },
  {
   "cell_type": "code",
   "execution_count": null,
   "metadata": {},
   "outputs": [],
   "source": [
    "colors = ['red', 'orange', 'yellow', 'green', 'cyan', 'blue', 'magenta']\n",
    "\n",
    "for step in range(70):\n",
    "    index = step % len(colors)\n",
    "    color = colors[ index ]\n",
    "    don.color(color)\n",
    "    polygon(don, 6)\n",
    "    don.left(360 / 70)"
   ]
  },
  {
   "cell_type": "markdown",
   "metadata": {},
   "source": [
    "### Questions:\n",
    "a.\tWhat does len(colors) do? <br>\n",
    "b.\tWhat does step % len(colors) do (think what happens if step has the value of 0, 1, 2, …, 7, 8, …, etc)? <br>\n",
    "c.\tWhat does colors[ index ] do (think what happens if index has the value if 0, 1, … 6)? <br>\n",
    "d.\tWhat would happen if index would have a value of 7, or higher? <br>\n",
    "e.\tWhat would happen if index would have a value of -1, or lower? <br>\n"
   ]
  },
  {
   "cell_type": "markdown",
   "metadata": {},
   "source": [
    "## 15.\tA better rainbow"
   ]
  },
  {
   "cell_type": "markdown",
   "metadata": {},
   "source": [
    "We now have alternating colors, but it would be a better rainbow if the first 1/7th part of shapes were one color, then the second part had the second color, etc. That can be done with a subtle change to the code:"
   ]
  },
  {
   "cell_type": "code",
   "execution_count": null,
   "metadata": {},
   "outputs": [],
   "source": [
    "colors = ['red', 'orange', 'yellow', 'green', 'cyan', 'blue', 'magenta']\n",
    "\n",
    "for step in range(70):\n",
    "    index = step // len(colors)\n",
    "    color = colors[ index ]\n",
    "    don.color(color)\n",
    "    polygon(don, 6)\n",
    "    don.left(360 / 70)"
   ]
  },
  {
   "cell_type": "markdown",
   "metadata": {},
   "source": [
    "### Questions:\n",
    "a.\tWhat does the // operator do? <br>\n",
    "b.\tHow is the // operator different from the / operator (you can try this in the IDLE console: 4 / 3 versus 4 // 3, 9 / 4 versus 9 // 4, etc)? <br>\n",
    "c.\tWhy is it kind of important to use 70 or another <br>\n"
   ]
  },
  {
   "cell_type": "markdown",
   "metadata": {},
   "source": [
    "## end of seminar..."
   ]
  }
 ],
 "metadata": {
  "kernelspec": {
   "display_name": "Python 3",
   "language": "python",
   "name": "python3"
  },
  "language_info": {
   "codemirror_mode": {
    "name": "ipython",
    "version": 3
   },
   "file_extension": ".py",
   "mimetype": "text/x-python",
   "name": "python",
   "nbconvert_exporter": "python",
   "pygments_lexer": "ipython3",
   "version": "3.6.4"
  }
 },
 "nbformat": 4,
 "nbformat_minor": 2
}
